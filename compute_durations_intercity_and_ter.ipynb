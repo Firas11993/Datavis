{
 "cells": [
  {
   "cell_type": "code",
   "execution_count": 1,
   "metadata": {},
   "outputs": [],
   "source": [
    "import pandas as pd\n",
    "import numpy as np\n",
    "from IPython.display import display\n",
    "from datetime import datetime"
   ]
  },
  {
   "cell_type": "code",
   "execution_count": 2,
   "metadata": {},
   "outputs": [],
   "source": [
    "DATA_DIR = \"data\""
   ]
  },
  {
   "cell_type": "code",
   "execution_count": 3,
   "metadata": {},
   "outputs": [],
   "source": [
    "#Extracting intericite data\n",
    "times = pd.read_csv(DATA_DIR + \"/export-intercites-gtfs-last/stop_times.txt\")\n",
    "stops = pd.read_csv(DATA_DIR + \"/export-intercites-gtfs-last/stops.txt\")\n",
    "#Extracting ter data\n",
    "stops_ter = pd.read_csv(DATA_DIR + \"/ter/stops.txt\")\n",
    "stop_times_ter = pd.read_csv(DATA_DIR + \"/ter/stop_times.txt\")"
   ]
  },
  {
   "cell_type": "code",
   "execution_count": 4,
   "metadata": {},
   "outputs": [],
   "source": [
    "#fix times which hours exceeds 24\n",
    "def fix_times(time) : \n",
    "    \n",
    "    if int(time.split(\":\")[0]) >= 24:\n",
    "        return \"{}:\".format(int(time.split(\":\")[0]) - 24)+\":\".join(time.split(\":\")[1:])\n",
    "    return time\n",
    "\n",
    "def compute_duration(arrival_list, departure_list) : \n",
    "    durations = []\n",
    "    for i in range(len(arrival_list) -1) : \n",
    "        durations.append((datetime.strptime(departure_list[i+1],\"%H:%M:%S\") - datetime.strptime(arrival_list[i],\"%H:%M:%S\")).seconds / 60)\n",
    "    return durations"
   ]
  },
  {
   "cell_type": "code",
   "execution_count": 5,
   "metadata": {},
   "outputs": [],
   "source": [
    "# fixing time for intercite\n",
    "times[\"arrival_time\"] = times[\"arrival_time\"].apply(fix_times)\n",
    "times[\"departure_time\"] = times[\"departure_time\"].apply(fix_times)\n",
    "#fix time for ter\n",
    "stop_times_ter[\"arrival_time\"] = stop_times_ter[\"arrival_time\"].apply(fix_times)\n",
    "stop_times_ter[\"departure_time\"] = stop_times_ter[\"departure_time\"].apply(fix_times)"
   ]
  },
  {
   "cell_type": "code",
   "execution_count": 6,
   "metadata": {},
   "outputs": [],
   "source": [
    "cols_1 = times.columns\n",
    "cols_2 = stops.columns "
   ]
  },
  {
   "cell_type": "code",
   "execution_count": 7,
   "metadata": {},
   "outputs": [],
   "source": [
    "table = pd.merge(times, stops, how = \"left\", left_on = times.stop_id, right_on= stops.stop_id).rename(columns = {\"key_0\" : \"stop_id\"})[[cols_1[0] , cols_1[1], cols_1[2] , cols_2[0],cols_2[1],cols_2[3],cols_2[4]]]\n",
    "timetable = table.groupby(\"trip_id\").agg(list).reset_index()\n",
    "\n",
    "timetable[\"durations\"] = timetable[[\"arrival_time\",\"departure_time\"]].apply(\n",
    "    lambda x : compute_duration(\n",
    "        x[\"arrival_time\"], x[\"departure_time\"]), axis = 1)\n",
    "\n",
    "timetable.to_csv(\"./data/export-intercites-gtfs-last/timetable_intercity.csv\")\n"
   ]
  },
  {
   "cell_type": "code",
   "execution_count": 8,
   "metadata": {},
   "outputs": [
    {
     "data": {
      "text/html": [
       "<div>\n",
       "<style scoped>\n",
       "    .dataframe tbody tr th:only-of-type {\n",
       "        vertical-align: middle;\n",
       "    }\n",
       "\n",
       "    .dataframe tbody tr th {\n",
       "        vertical-align: top;\n",
       "    }\n",
       "\n",
       "    .dataframe thead th {\n",
       "        text-align: right;\n",
       "    }\n",
       "</style>\n",
       "<table border=\"1\" class=\"dataframe\">\n",
       "  <thead>\n",
       "    <tr style=\"text-align: right;\">\n",
       "      <th></th>\n",
       "      <th>trip_id</th>\n",
       "      <th>arrival_time</th>\n",
       "      <th>departure_time</th>\n",
       "      <th>stop_id</th>\n",
       "      <th>stop_name</th>\n",
       "      <th>stop_lat</th>\n",
       "      <th>stop_lon</th>\n",
       "      <th>durations</th>\n",
       "    </tr>\n",
       "  </thead>\n",
       "  <tbody>\n",
       "    <tr>\n",
       "      <th>0</th>\n",
       "      <td>OCESN001001F0100459990</td>\n",
       "      <td>[08:21:00, 11:06:00, 11:26:00, 11:52:00, 12:17...</td>\n",
       "      <td>[08:21:00, 11:09:00, 11:29:00, 12:00:00, 12:20...</td>\n",
       "      <td>[StopPoint:OCECorail Intercité-87113001, StopP...</td>\n",
       "      <td>[Gare de Paris-Est, Gare de Nancy-Ville, Gare ...</td>\n",
       "      <td>[48.87656977, 48.68978225, 48.58799369, 48.737...</td>\n",
       "      <td>[2.35915061, 6.17427169, 6.49703457, 7.0527805...</td>\n",
       "      <td>[168.0, 23.0, 34.0, 28.0, 33.0]</td>\n",
       "    </tr>\n",
       "    <tr>\n",
       "      <th>1</th>\n",
       "      <td>OCESN001001F0100659999</td>\n",
       "      <td>[07:06:00, 10:26:00, 10:50:00, 11:14:00, 11:31...</td>\n",
       "      <td>[07:06:00, 10:32:00, 10:52:00, 11:16:00, 11:33...</td>\n",
       "      <td>[StopPoint:OCECorail Intercité-87113001, StopP...</td>\n",
       "      <td>[Gare de Paris-Est, Gare de Nancy-Ville, Gare ...</td>\n",
       "      <td>[48.87656977, 48.68978225, 48.58799369, 48.737...</td>\n",
       "      <td>[2.35915061, 6.17427169, 6.49703457, 7.0527805...</td>\n",
       "      <td>[206.0, 26.0, 26.0, 19.0, 33.0]</td>\n",
       "    </tr>\n",
       "    <tr>\n",
       "      <th>2</th>\n",
       "      <td>OCESN001001F0100759984</td>\n",
       "      <td>[08:21:00, 11:06:00, 11:26:00, 11:52:00, 12:17...</td>\n",
       "      <td>[08:21:00, 11:09:00, 11:29:00, 12:00:00, 12:20...</td>\n",
       "      <td>[StopPoint:OCECorail Intercité-87113001, StopP...</td>\n",
       "      <td>[Gare de Paris-Est, Gare de Nancy-Ville, Gare ...</td>\n",
       "      <td>[48.87656977, 48.68978225, 48.58799369, 48.737...</td>\n",
       "      <td>[2.35915061, 6.17427169, 6.49703457, 7.0527805...</td>\n",
       "      <td>[168.0, 23.0, 34.0, 28.0, 35.0]</td>\n",
       "    </tr>\n",
       "  </tbody>\n",
       "</table>\n",
       "</div>"
      ],
      "text/plain": [
       "                  trip_id                                       arrival_time  \\\n",
       "0  OCESN001001F0100459990  [08:21:00, 11:06:00, 11:26:00, 11:52:00, 12:17...   \n",
       "1  OCESN001001F0100659999  [07:06:00, 10:26:00, 10:50:00, 11:14:00, 11:31...   \n",
       "2  OCESN001001F0100759984  [08:21:00, 11:06:00, 11:26:00, 11:52:00, 12:17...   \n",
       "\n",
       "                                      departure_time  \\\n",
       "0  [08:21:00, 11:09:00, 11:29:00, 12:00:00, 12:20...   \n",
       "1  [07:06:00, 10:32:00, 10:52:00, 11:16:00, 11:33...   \n",
       "2  [08:21:00, 11:09:00, 11:29:00, 12:00:00, 12:20...   \n",
       "\n",
       "                                             stop_id  \\\n",
       "0  [StopPoint:OCECorail Intercité-87113001, StopP...   \n",
       "1  [StopPoint:OCECorail Intercité-87113001, StopP...   \n",
       "2  [StopPoint:OCECorail Intercité-87113001, StopP...   \n",
       "\n",
       "                                           stop_name  \\\n",
       "0  [Gare de Paris-Est, Gare de Nancy-Ville, Gare ...   \n",
       "1  [Gare de Paris-Est, Gare de Nancy-Ville, Gare ...   \n",
       "2  [Gare de Paris-Est, Gare de Nancy-Ville, Gare ...   \n",
       "\n",
       "                                            stop_lat  \\\n",
       "0  [48.87656977, 48.68978225, 48.58799369, 48.737...   \n",
       "1  [48.87656977, 48.68978225, 48.58799369, 48.737...   \n",
       "2  [48.87656977, 48.68978225, 48.58799369, 48.737...   \n",
       "\n",
       "                                            stop_lon  \\\n",
       "0  [2.35915061, 6.17427169, 6.49703457, 7.0527805...   \n",
       "1  [2.35915061, 6.17427169, 6.49703457, 7.0527805...   \n",
       "2  [2.35915061, 6.17427169, 6.49703457, 7.0527805...   \n",
       "\n",
       "                         durations  \n",
       "0  [168.0, 23.0, 34.0, 28.0, 33.0]  \n",
       "1  [206.0, 26.0, 26.0, 19.0, 33.0]  \n",
       "2  [168.0, 23.0, 34.0, 28.0, 35.0]  "
      ]
     },
     "execution_count": 8,
     "metadata": {},
     "output_type": "execute_result"
    }
   ],
   "source": [
    "timetable.head(3)"
   ]
  },
  {
   "cell_type": "code",
   "execution_count": 9,
   "metadata": {},
   "outputs": [],
   "source": [
    "merged_ter = pd.merge(stop_times_ter,stops_ter,how='left', left_on=stop_times_ter.stop_id,right_on = stops_ter.stop_id) \\\n",
    "            [['trip_id','arrival_time','departure_time','stop_name','stop_lat','stop_lon']]\n",
    "\n",
    "timetable_ter = merged_ter.groupby(\"trip_id\").agg(list).reset_index()\n",
    "\n",
    "timetable_ter[\"durations\"] = timetable_ter[[\"arrival_time\",\"departure_time\"]].apply(\n",
    "    lambda x : compute_duration(\n",
    "        x[\"arrival_time\"], x[\"departure_time\"]), axis = 1)"
   ]
  },
  {
   "cell_type": "code",
   "execution_count": 10,
   "metadata": {},
   "outputs": [
    {
     "data": {
      "text/html": [
       "<div>\n",
       "<style scoped>\n",
       "    .dataframe tbody tr th:only-of-type {\n",
       "        vertical-align: middle;\n",
       "    }\n",
       "\n",
       "    .dataframe tbody tr th {\n",
       "        vertical-align: top;\n",
       "    }\n",
       "\n",
       "    .dataframe thead th {\n",
       "        text-align: right;\n",
       "    }\n",
       "</style>\n",
       "<table border=\"1\" class=\"dataframe\">\n",
       "  <thead>\n",
       "    <tr style=\"text-align: right;\">\n",
       "      <th></th>\n",
       "      <th>trip_id</th>\n",
       "      <th>arrival_time</th>\n",
       "      <th>departure_time</th>\n",
       "      <th>stop_name</th>\n",
       "      <th>stop_lat</th>\n",
       "      <th>stop_lon</th>\n",
       "      <th>durations</th>\n",
       "    </tr>\n",
       "  </thead>\n",
       "  <tbody>\n",
       "    <tr>\n",
       "      <th>0</th>\n",
       "      <td>OCEDB081400F0100134686</td>\n",
       "      <td>[05:26:00, 05:45:00, 06:06:00, 06:28:00]</td>\n",
       "      <td>[05:26:00, 05:53:00, 06:07:00, 06:28:00]</td>\n",
       "      <td>[Gare de Wissembourg, Gare de WINDEN PFALZ, Ga...</td>\n",
       "      <td>[49.03153308, 49.09544004, 49.19828733, 49.350...</td>\n",
       "      <td>[7.95030589, 8.1224056, 8.12533019, 8.14067588]</td>\n",
       "      <td>[27.0, 22.0, 22.0]</td>\n",
       "    </tr>\n",
       "    <tr>\n",
       "      <th>1</th>\n",
       "      <td>OCEDB081400F0200234682</td>\n",
       "      <td>[05:26:00, 05:45:00, 06:06:00, 06:28:00]</td>\n",
       "      <td>[05:26:00, 05:53:00, 06:07:00, 06:28:00]</td>\n",
       "      <td>[Gare de Wissembourg, Gare de WINDEN PFALZ, Ga...</td>\n",
       "      <td>[49.03153308, 49.09544004, 49.19828733, 49.350...</td>\n",
       "      <td>[7.95030589, 8.1224056, 8.12533019, 8.14067588]</td>\n",
       "      <td>[27.0, 22.0, 22.0]</td>\n",
       "    </tr>\n",
       "    <tr>\n",
       "      <th>2</th>\n",
       "      <td>OCEDB081401F0100134545</td>\n",
       "      <td>[05:05:00, 05:21:00]</td>\n",
       "      <td>[05:05:00, 05:21:00]</td>\n",
       "      <td>[Gare de WINDEN PFALZ, Gare de Wissembourg]</td>\n",
       "      <td>[49.09544004, 49.03153308]</td>\n",
       "      <td>[8.1224056, 7.95030589]</td>\n",
       "      <td>[16.0]</td>\n",
       "    </tr>\n",
       "  </tbody>\n",
       "</table>\n",
       "</div>"
      ],
      "text/plain": [
       "                  trip_id                              arrival_time  \\\n",
       "0  OCEDB081400F0100134686  [05:26:00, 05:45:00, 06:06:00, 06:28:00]   \n",
       "1  OCEDB081400F0200234682  [05:26:00, 05:45:00, 06:06:00, 06:28:00]   \n",
       "2  OCEDB081401F0100134545                      [05:05:00, 05:21:00]   \n",
       "\n",
       "                             departure_time  \\\n",
       "0  [05:26:00, 05:53:00, 06:07:00, 06:28:00]   \n",
       "1  [05:26:00, 05:53:00, 06:07:00, 06:28:00]   \n",
       "2                      [05:05:00, 05:21:00]   \n",
       "\n",
       "                                           stop_name  \\\n",
       "0  [Gare de Wissembourg, Gare de WINDEN PFALZ, Ga...   \n",
       "1  [Gare de Wissembourg, Gare de WINDEN PFALZ, Ga...   \n",
       "2        [Gare de WINDEN PFALZ, Gare de Wissembourg]   \n",
       "\n",
       "                                            stop_lat  \\\n",
       "0  [49.03153308, 49.09544004, 49.19828733, 49.350...   \n",
       "1  [49.03153308, 49.09544004, 49.19828733, 49.350...   \n",
       "2                         [49.09544004, 49.03153308]   \n",
       "\n",
       "                                          stop_lon           durations  \n",
       "0  [7.95030589, 8.1224056, 8.12533019, 8.14067588]  [27.0, 22.0, 22.0]  \n",
       "1  [7.95030589, 8.1224056, 8.12533019, 8.14067588]  [27.0, 22.0, 22.0]  \n",
       "2                          [8.1224056, 7.95030589]              [16.0]  "
      ]
     },
     "execution_count": 10,
     "metadata": {},
     "output_type": "execute_result"
    }
   ],
   "source": [
    "timetable_ter.head(3)"
   ]
  },
  {
   "cell_type": "code",
   "execution_count": 11,
   "metadata": {},
   "outputs": [],
   "source": [
    "timetable_ter.to_csv(\"./data/ter/timetable_ter.csv\")\n"
   ]
  },
  {
   "cell_type": "code",
   "execution_count": null,
   "metadata": {},
   "outputs": [],
   "source": []
  }
 ],
 "metadata": {
  "kernelspec": {
   "display_name": "Python 3",
   "language": "python",
   "name": "python3"
  },
  "language_info": {
   "codemirror_mode": {
    "name": "ipython",
    "version": 3
   },
   "file_extension": ".py",
   "mimetype": "text/x-python",
   "name": "python",
   "nbconvert_exporter": "python",
   "pygments_lexer": "ipython3",
   "version": "3.7.0"
  }
 },
 "nbformat": 4,
 "nbformat_minor": 2
}

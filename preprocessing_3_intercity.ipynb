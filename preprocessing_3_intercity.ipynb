{
 "cells": [
  {
   "cell_type": "code",
   "execution_count": 1,
   "metadata": {},
   "outputs": [],
   "source": [
    "import re\n",
    "\n",
    "import pandas as pd\n",
    "import networkx as nx"
   ]
  },
  {
   "cell_type": "code",
   "execution_count": 2,
   "metadata": {},
   "outputs": [],
   "source": [
    "DATA_DIR = 'data/'"
   ]
  },
  {
   "cell_type": "code",
   "execution_count": 3,
   "metadata": {},
   "outputs": [
    {
     "data": {
      "text/html": [
       "<div>\n",
       "<style scoped>\n",
       "    .dataframe tbody tr th:only-of-type {\n",
       "        vertical-align: middle;\n",
       "    }\n",
       "\n",
       "    .dataframe tbody tr th {\n",
       "        vertical-align: top;\n",
       "    }\n",
       "\n",
       "    .dataframe thead th {\n",
       "        text-align: right;\n",
       "    }\n",
       "</style>\n",
       "<table border=\"1\" class=\"dataframe\">\n",
       "  <thead>\n",
       "    <tr style=\"text-align: right;\">\n",
       "      <th></th>\n",
       "      <th>Origin</th>\n",
       "      <th>Destination</th>\n",
       "      <th>Price</th>\n",
       "    </tr>\n",
       "  </thead>\n",
       "  <tbody>\n",
       "    <tr>\n",
       "      <th>0</th>\n",
       "      <td>ANGERS ST LAUD</td>\n",
       "      <td>AMBOISE</td>\n",
       "      <td>34.0</td>\n",
       "    </tr>\n",
       "    <tr>\n",
       "      <th>1</th>\n",
       "      <td>LA BAULE ESCOUBLAC</td>\n",
       "      <td>AMBOISE</td>\n",
       "      <td>68.0</td>\n",
       "    </tr>\n",
       "    <tr>\n",
       "      <th>2</th>\n",
       "      <td>ST NAZAIRE</td>\n",
       "      <td>AMBOISE</td>\n",
       "      <td>65.0</td>\n",
       "    </tr>\n",
       "  </tbody>\n",
       "</table>\n",
       "</div>"
      ],
      "text/plain": [
       "               Origin Destination  Price\n",
       "0      ANGERS ST LAUD     AMBOISE   34.0\n",
       "1  LA BAULE ESCOUBLAC     AMBOISE   68.0\n",
       "2          ST NAZAIRE     AMBOISE   65.0"
      ]
     },
     "execution_count": 3,
     "metadata": {},
     "output_type": "execute_result"
    }
   ],
   "source": [
    "intercity_prices = pd.read_csv(DATA_DIR + 'tarifs-intercites-100-eco.csv', delimiter=';')\n",
    "intercity_prices = intercity_prices[['Origine', 'Destination', 'Plein Tarif 2nde']]\n",
    "intercity_prices.columns = ['Origin', 'Destination', 'Price']\n",
    "intercity_prices.head(3)"
   ]
  },
  {
   "cell_type": "code",
   "execution_count": 5,
   "metadata": {},
   "outputs": [
    {
     "data": {
      "text/html": [
       "<div>\n",
       "<style scoped>\n",
       "    .dataframe tbody tr th:only-of-type {\n",
       "        vertical-align: middle;\n",
       "    }\n",
       "\n",
       "    .dataframe tbody tr th {\n",
       "        vertical-align: top;\n",
       "    }\n",
       "\n",
       "    .dataframe thead th {\n",
       "        text-align: right;\n",
       "    }\n",
       "</style>\n",
       "<table border=\"1\" class=\"dataframe\">\n",
       "  <thead>\n",
       "    <tr style=\"text-align: right;\">\n",
       "      <th></th>\n",
       "      <th>Name</th>\n",
       "    </tr>\n",
       "  </thead>\n",
       "  <tbody>\n",
       "    <tr>\n",
       "      <th>0</th>\n",
       "      <td>La Villeneuve-au-Chène</td>\n",
       "    </tr>\n",
       "    <tr>\n",
       "      <th>1</th>\n",
       "      <td>St-Léger-Moussey</td>\n",
       "    </tr>\n",
       "    <tr>\n",
       "      <th>2</th>\n",
       "      <td>Romilly-sur-Seine</td>\n",
       "    </tr>\n",
       "  </tbody>\n",
       "</table>\n",
       "</div>"
      ],
      "text/plain": [
       "                     Name\n",
       "0  La Villeneuve-au-Chène\n",
       "1        St-Léger-Moussey\n",
       "2       Romilly-sur-Seine"
      ]
     },
     "execution_count": 5,
     "metadata": {},
     "output_type": "execute_result"
    }
   ],
   "source": [
    "stations = pd.read_csv(DATA_DIR + '_stations.csv')\n",
    "stations = stations[['Name']]\n",
    "stations.head(3)"
   ]
  },
  {
   "cell_type": "code",
   "execution_count": 8,
   "metadata": {},
   "outputs": [
    {
     "data": {
      "text/html": [
       "<div>\n",
       "<style scoped>\n",
       "    .dataframe tbody tr th:only-of-type {\n",
       "        vertical-align: middle;\n",
       "    }\n",
       "\n",
       "    .dataframe tbody tr th {\n",
       "        vertical-align: top;\n",
       "    }\n",
       "\n",
       "    .dataframe thead th {\n",
       "        text-align: right;\n",
       "    }\n",
       "</style>\n",
       "<table border=\"1\" class=\"dataframe\">\n",
       "  <thead>\n",
       "    <tr style=\"text-align: right;\">\n",
       "      <th></th>\n",
       "      <th>Origin</th>\n",
       "      <th>Destination</th>\n",
       "      <th>Price</th>\n",
       "    </tr>\n",
       "  </thead>\n",
       "  <tbody>\n",
       "    <tr>\n",
       "      <th>0</th>\n",
       "      <td>Angers-St-Laud</td>\n",
       "      <td>Amboise</td>\n",
       "      <td>34.0</td>\n",
       "    </tr>\n",
       "    <tr>\n",
       "      <th>1</th>\n",
       "      <td>La Baule-Escoublac</td>\n",
       "      <td>Amboise</td>\n",
       "      <td>68.0</td>\n",
       "    </tr>\n",
       "    <tr>\n",
       "      <th>2</th>\n",
       "      <td>St-Nazaire</td>\n",
       "      <td>Amboise</td>\n",
       "      <td>65.0</td>\n",
       "    </tr>\n",
       "  </tbody>\n",
       "</table>\n",
       "</div>"
      ],
      "text/plain": [
       "               Origin Destination  Price\n",
       "0      Angers-St-Laud     Amboise   34.0\n",
       "1  La Baule-Escoublac     Amboise   68.0\n",
       "2          St-Nazaire     Amboise   65.0"
      ]
     },
     "execution_count": 8,
     "metadata": {},
     "output_type": "execute_result"
    }
   ],
   "source": [
    "# Transformations to apply for station names.\n",
    "NORMALIZATIONS = {'ç': 'c',\n",
    "                  'é': 'e',\n",
    "                  'è': 'e',\n",
    "                  'ë': 'e',\n",
    "                  'ô': 'o',\n",
    "                  'â': 'a',\n",
    "                  'î': 'i',\n",
    "                  'ê': 'e',\n",
    "                  '\\\\(': '',\n",
    "                  '\\\\)': '',\n",
    "                  'û': 'u',\n",
    "                  '-': ' '}\n",
    "REPLACEMENTS = {'LES AUBRAIS': 'Les Aubrais-Orléans',\n",
    "                'SAUMUR': 'Saumur-Rive-Droite',\n",
    "                'STRASBOURG': 'Strasbourg-Ville',}\n",
    "\n",
    "def _from_od_get_matches(search, pattern):\n",
    "    pattern = pattern.strip()\n",
    "    if pattern in REPLACEMENTS:\n",
    "        pattern = REPLACEMENTS[pattern]\n",
    "    pattern = pattern.lower()\n",
    "    for pat, repl in NORMALIZATIONS.items():\n",
    "        if pat.startswith('\\\\'):\n",
    "            pat = pat[1:]\n",
    "        pattern = pattern.replace(pat, repl)\n",
    "    pattern = re.sub(' +', ' ', pattern)\n",
    "    pattern = pattern.strip()\n",
    "    return stations[search == pattern].Name.iloc[0]\n",
    "\n",
    "def get_fixed_name(name):\n",
    "    search = stations.Name.str.lower()\n",
    "    for pat, repl in NORMALIZATIONS.items():\n",
    "        search = search.replace(pat, repl, regex=True)\n",
    "    return _from_od_get_matches(search, name)\n",
    "\n",
    "intercity_prices = intercity_prices.assign(Origin=intercity_prices.Origin.apply(\n",
    "    lambda x: get_fixed_name(x)))\n",
    "intercity_prices = intercity_prices.assign(Destination=intercity_prices.Destination.apply(\n",
    "    lambda x: get_fixed_name(x)))\n",
    "intercity_prices.head(3)"
   ]
  },
  {
   "cell_type": "code",
   "execution_count": 9,
   "metadata": {},
   "outputs": [],
   "source": [
    "intercity_prices.to_csv(DATA_DIR + '_intercity_prices.csv', index=False)"
   ]
  },
  {
   "cell_type": "code",
   "execution_count": null,
   "metadata": {},
   "outputs": [],
   "source": []
  }
 ],
 "metadata": {
  "kernelspec": {
   "display_name": "Python 3",
   "language": "python",
   "name": "python3"
  },
  "language_info": {
   "codemirror_mode": {
    "name": "ipython",
    "version": 3
   },
   "file_extension": ".py",
   "mimetype": "text/x-python",
   "name": "python",
   "nbconvert_exporter": "python",
   "pygments_lexer": "ipython3",
   "version": "3.7.1"
  }
 },
 "nbformat": 4,
 "nbformat_minor": 2
}

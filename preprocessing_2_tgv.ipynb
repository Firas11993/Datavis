{
 "cells": [
  {
   "cell_type": "code",
   "execution_count": 1,
   "metadata": {
    "collapsed": true
   },
   "outputs": [],
   "source": [
    "import re\n",
    "\n",
    "import numpy as np\n",
    "import pandas as pd"
   ]
  },
  {
   "cell_type": "code",
   "execution_count": 5,
   "metadata": {
    "collapsed": true
   },
   "outputs": [],
   "source": [
    "from IPython.display import display"
   ]
  },
  {
   "cell_type": "code",
   "execution_count": 2,
   "metadata": {
    "collapsed": true
   },
   "outputs": [],
   "source": [
    "DATA_DIR = 'data/'"
   ]
  },
  {
   "cell_type": "code",
   "execution_count": 6,
   "metadata": {
    "collapsed": false
   },
   "outputs": [
    {
     "data": {
      "text/html": [
       "<div>\n",
       "<style scoped>\n",
       "    .dataframe tbody tr th:only-of-type {\n",
       "        vertical-align: middle;\n",
       "    }\n",
       "\n",
       "    .dataframe tbody tr th {\n",
       "        vertical-align: top;\n",
       "    }\n",
       "\n",
       "    .dataframe thead th {\n",
       "        text-align: right;\n",
       "    }\n",
       "</style>\n",
       "<table border=\"1\" class=\"dataframe\">\n",
       "  <thead>\n",
       "    <tr style=\"text-align: right;\">\n",
       "      <th></th>\n",
       "      <th>Name</th>\n",
       "    </tr>\n",
       "  </thead>\n",
       "  <tbody>\n",
       "    <tr>\n",
       "      <th>0</th>\n",
       "      <td>La Villeneuve-au-Chène</td>\n",
       "    </tr>\n",
       "    <tr>\n",
       "      <th>1</th>\n",
       "      <td>St-Léger-Moussey</td>\n",
       "    </tr>\n",
       "    <tr>\n",
       "      <th>2</th>\n",
       "      <td>Romilly-sur-Seine</td>\n",
       "    </tr>\n",
       "  </tbody>\n",
       "</table>\n",
       "</div>"
      ],
      "text/plain": [
       "                     Name\n",
       "0  La Villeneuve-au-Chène\n",
       "1        St-Léger-Moussey\n",
       "2       Romilly-sur-Seine"
      ]
     },
     "metadata": {},
     "output_type": "display_data"
    },
    {
     "data": {
      "text/html": [
       "<div>\n",
       "<style scoped>\n",
       "    .dataframe tbody tr th:only-of-type {\n",
       "        vertical-align: middle;\n",
       "    }\n",
       "\n",
       "    .dataframe tbody tr th {\n",
       "        vertical-align: top;\n",
       "    }\n",
       "\n",
       "    .dataframe thead th {\n",
       "        text-align: right;\n",
       "    }\n",
       "</style>\n",
       "<table border=\"1\" class=\"dataframe\">\n",
       "  <thead>\n",
       "    <tr style=\"text-align: right;\">\n",
       "      <th></th>\n",
       "      <th>OD</th>\n",
       "      <th>Prix d'appel 2nde</th>\n",
       "      <th>Plein Tarif Loisir 2nde</th>\n",
       "      <th>1ère classe</th>\n",
       "      <th>Commentaires</th>\n",
       "    </tr>\n",
       "  </thead>\n",
       "  <tbody>\n",
       "    <tr>\n",
       "      <th>0</th>\n",
       "      <td>DAX-DOUAI</td>\n",
       "      <td>30.0</td>\n",
       "      <td>144.0</td>\n",
       "      <td>174.0</td>\n",
       "      <td>NaN</td>\n",
       "    </tr>\n",
       "    <tr>\n",
       "      <th>1</th>\n",
       "      <td>IRUN-LILLE FLANDRES</td>\n",
       "      <td>30.0</td>\n",
       "      <td>144.0</td>\n",
       "      <td>174.0</td>\n",
       "      <td>NaN</td>\n",
       "    </tr>\n",
       "    <tr>\n",
       "      <th>2</th>\n",
       "      <td>BAYONNE-DOUAI</td>\n",
       "      <td>30.0</td>\n",
       "      <td>144.0</td>\n",
       "      <td>174.0</td>\n",
       "      <td>NaN</td>\n",
       "    </tr>\n",
       "  </tbody>\n",
       "</table>\n",
       "</div>"
      ],
      "text/plain": [
       "                    OD  Prix d'appel 2nde   Plein Tarif Loisir 2nde  \\\n",
       "0            DAX-DOUAI                30.0                    144.0   \n",
       "1  IRUN-LILLE FLANDRES                30.0                    144.0   \n",
       "2        BAYONNE-DOUAI                30.0                    144.0   \n",
       "\n",
       "   1ère classe Commentaires  \n",
       "0        174.0          NaN  \n",
       "1        174.0          NaN  \n",
       "2        174.0          NaN  "
      ]
     },
     "metadata": {},
     "output_type": "display_data"
    }
   ],
   "source": [
    "# Read stations data and TGV prices data.\n",
    "stations = pd.read_csv(DATA_DIR + '_stations.csv')[['Name']]\n",
    "display(stations.head(3))\n",
    "tgv_prices = pd.read_csv(DATA_DIR + 'tarifs-tgv-par-od.csv', sep=';')\n",
    "display(tgv_prices.head(3))"
   ]
  },
  {
   "cell_type": "code",
   "execution_count": 7,
   "metadata": {
    "collapsed": true
   },
   "outputs": [],
   "source": [
    "# Transformations to apply for station names.\n",
    "NORMALIZATIONS = {'ç': 'c',\n",
    "                  'é': 'e',\n",
    "                  'è': 'e',\n",
    "                  'ë': 'e',\n",
    "                  'ô': 'o',\n",
    "                  'â': 'a',\n",
    "                  'î': 'i',\n",
    "                  'ê': 'e',\n",
    "                  '\\\\(': '',\n",
    "                  '\\\\)': '',\n",
    "                  'û': 'u',\n",
    "                  '-': ' '}\n",
    "# Some stations are spelled quite differently, or are ambiguous (had to resort to googling to figure out which is\n",
    "# which exactly). We have to define these manually.\n",
    "REPLACEMENTS = {'AEROPORT CDG 2 TGV ROISSY': 'Roissy-Aéroport-Charles-de-Gaulle 2-TGV (TGV)',\n",
    "                'AEROPORT CDG2 TGV ROISSY': 'Roissy-Aéroport-Charles-de-Gaulle 2-TGV (TGV)',\n",
    "                'Bâle': 'Bâle-St-Jean',\n",
    "                'MASSY PALAISEAU': 'Massy-Palaiseau-Grande-Ceinture',\n",
    "                'LILLE EUROPE-147322': 'Lille-Europe',\n",
    "                'RUFFEC CHARENTE': 'Ruffec',\n",
    "                'MOUTIERS SALINS BRIDES': 'Moûtiers-Salins-Brides-les-Bains',\n",
    "                'MANTES LA J. TGV': 'Mantes-la-Jolie',\n",
    "                'CLUSES  74': 'Cluses',\n",
    "                'STRASBOURG': 'Strasbourg-Ville',\n",
    "                'SAUMUR': 'Saumur-Rive-Droite',\n",
    "                'PARIS MONTPARNAS VAUGIRARD BLS': 'Paris-Montparnasse',\n",
    "                'PARIS MONTPARNASSE 3 VAUGIRARD': 'Paris-Montparnasse',\n",
    "                'PLOUARET TREGOR': 'Plouaret',\n",
    "                'plouaret tregor': 'Plouaret',\n",
    "                'Saint Malo': 'St-Malo',\n",
    "                'CONFLANS FDO TGV': 'Conflans-Fin-d\\'Oise',\n",
    "                'MULHOUSE VILLE': 'Mulhouse-Ville',\n",
    "                'MULHOUSE': 'Mulhouse-Ville',\n",
    "                'SAINT MICHEL VALLOIRE': 'St-Michel-Valloire',\n",
    "                'JUVISY TGV': 'Juvisy',\n",
    "                'Facture': 'Facture-Biganos',\n",
    "                'Saint Maixent': 'St-Maixent (Deux-Sèvres)',\n",
    "                'St maixent': 'St-Maixent (Deux-Sèvres)',\n",
    "                'Vendôme Gare TGV': 'Vendôme',\n",
    "                'saint nazaire': 'St-Nazaire',\n",
    "                'Saint Brieuc': 'St-Brieuc',\n",
    "                'PARIS MONTPARNASSE 1 ET 2': 'Paris-Montparnasse',\n",
    "                'Dol de Bretagne': 'Dol',\n",
    "                'DOL DE BRETAGNE': 'Dol',\n",
    "                'LYON SAINT EXUPERY TGV': 'Lyon-St-Exupéry-TGV',\n",
    "                'MONTPELLIER': 'Montpellier (CNM)',\n",
    "                'AVIGNON SUD': 'Avignon-Centre',\n",
    "                'Angers': 'Angers-St-Laud',\n",
    "                'VILLENEUVE LES AVIGNONS': 'Villeneuve-lès-Avignon'}\n",
    "# Some common suffixes which are missing in many cases, so we try using them to get a match when all else fails.\n",
    "SUFFIXES = ['-tgv', '-voyageurs']\n",
    "\n",
    "def _from_od_get_matches(search, pattern):\n",
    "    pattern = pattern.strip()\n",
    "    if pattern in REPLACEMENTS:\n",
    "        pattern = REPLACEMENTS[pattern]\n",
    "    pattern = pattern.lower()\n",
    "    for pat, repl in NORMALIZATIONS.items():\n",
    "        if pat.startswith('\\\\'):\n",
    "            pat = pat[1:]\n",
    "        pattern = pattern.replace(pat, repl)\n",
    "    pattern = re.sub(' +', ' ', pattern)\n",
    "    pattern = pattern.strip()\n",
    "    return stations[search == pattern]\n",
    "\n",
    "def _from_od_complex(od, lim, index, try_suffixes=False):\n",
    "    splits = od.split('-', lim)\n",
    "    splits = ['-'.join(splits[:-1]), splits[-1]]\n",
    "    search = stations.Name.str.lower()\n",
    "    for pat, repl in NORMALIZATIONS.items():\n",
    "        search = search.replace(pat, repl, regex=True)\n",
    "    pattern = splits[index]\n",
    "    if try_suffixes:\n",
    "        orig_pattern = pattern\n",
    "        for suffix in SUFFIXES:\n",
    "            pattern = orig_pattern + suffix\n",
    "            match = _from_od_get_matches(search, pattern)\n",
    "            if not match.empty:\n",
    "                return match\n",
    "    else:\n",
    "        return _from_od_get_matches(search, pattern)\n",
    "\n",
    "def _from_od(od, dest):\n",
    "    splits = od.split('-')\n",
    "    index = 1 if dest else 0\n",
    "    for lim in reversed(range(1, len(splits))):\n",
    "        match = _from_od_complex(od, lim, index)\n",
    "        if not match.empty:\n",
    "            return match.Name.iloc[0]\n",
    "        else:\n",
    "            match = _from_od_complex(od, lim, index, try_suffixes=True)\n",
    "            if match is not None and not match.empty:\n",
    "                return match.Name.iloc[0]\n",
    "    return None\n",
    "\n",
    "def origin_from_od(od):\n",
    "    return _from_od(od, dest=False)\n",
    "\n",
    "def dest_from_od(od):\n",
    "    return _from_od(od, dest=True)"
   ]
  },
  {
   "cell_type": "code",
   "execution_count": null,
   "metadata": {
    "collapsed": false
   },
   "outputs": [],
   "source": [
    "tgv_prices = tgv_prices.assign(Origin=tgv_prices.OD.apply(lambda x: origin_from_od(x)))\n",
    "tgv_prices = tgv_prices.assign(Destination=tgv_prices.OD.apply(lambda x: dest_from_od(x)))\n",
    "print(len(tgv_prices))"
   ]
  },
  {
   "cell_type": "code",
   "execution_count": null,
   "metadata": {
    "collapsed": false
   },
   "outputs": [],
   "source": [
    "tgv_prices_final = tgv_prices[['Origin', 'Destination', 'Plein Tarif Loisir 2nde']].dropna()\n",
    "tgv_prices_final.columns = ['Origin', 'Destination', 'Price']\n",
    "print(len(tgv_prices_final))"
   ]
  },
  {
   "cell_type": "code",
   "execution_count": null,
   "metadata": {
    "collapsed": false
   },
   "outputs": [],
   "source": [
    "tgv_prices_final.head()"
   ]
  },
  {
   "cell_type": "code",
   "execution_count": null,
   "metadata": {
    "collapsed": true
   },
   "outputs": [],
   "source": [
    "tgv_prices_final.to_csv(DATA_DIR + '_tgv_prices.csv', index=False)"
   ]
  },
  {
   "cell_type": "code",
   "execution_count": null,
   "metadata": {
    "collapsed": true
   },
   "outputs": [],
   "source": []
  }
 ],
 "metadata": {
  "kernelspec": {
   "display_name": "Python 3",
   "language": "python",
   "name": "python3"
  },
  "language_info": {
   "codemirror_mode": {
    "name": "ipython",
    "version": 3
   },
   "file_extension": ".py",
   "mimetype": "text/x-python",
   "name": "python",
   "nbconvert_exporter": "python",
   "pygments_lexer": "ipython3",
   "version": "3.6.0"
  }
 },
 "nbformat": 4,
 "nbformat_minor": 2
}

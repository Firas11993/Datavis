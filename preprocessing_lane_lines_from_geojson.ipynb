{
 "cells": [
  {
   "cell_type": "code",
   "execution_count": 1,
   "metadata": {},
   "outputs": [],
   "source": [
    "import json\n",
    "import pandas as pd\n",
    "import numpy as np\n",
    "import folium\n",
    "import re"
   ]
  },
  {
   "cell_type": "markdown",
   "metadata": {},
   "source": [
    "The raw data is a list of disconnected points (with certain GeoJSON keys, aka 'features', that relate them to a train line/track).  \n",
    "We want to extract a list of lines from this data."
   ]
  },
  {
   "cell_type": "code",
   "execution_count": 2,
   "metadata": {},
   "outputs": [],
   "source": [
    "DATA_DIR = 'data/'\n",
    "data = json.load(open(DATA_DIR + 'courbe-des-voies.geojson'))"
   ]
  },
  {
   "cell_type": "markdown",
   "metadata": {},
   "source": [
    "First, we group the points by train line/track while retaining all the GeoJSON features:"
   ]
  },
  {
   "cell_type": "code",
   "execution_count": 3,
   "metadata": {},
   "outputs": [],
   "source": [
    "lines_by_features = {}\n",
    "for feature in data['features']:\n",
    "    # Get a unique key that identifies each line and track.\n",
    "    key = '{},{},{},{}'.format(feature['properties']['nom_voie'], feature['properties']['code_ligne'],\n",
    "                               feature['properties']['libelle_voie'], feature['properties']['libelle_ligne'])\n",
    "    if key in lines_by_features:\n",
    "        lines_by_features[key].append(feature)\n",
    "    else:\n",
    "        lines_by_features[key] = [feature]"
   ]
  },
  {
   "cell_type": "markdown",
   "metadata": {},
   "source": [
    "Then, for each line/track's points, we only keep the point's code (\"pk_debut\" -- primary key?) and coordinates. We will then sort the points by their code, which gives us the ordered points of each line/track."
   ]
  },
  {
   "cell_type": "code",
   "execution_count": 4,
   "metadata": {},
   "outputs": [],
   "source": [
    "lines_by_points = []\n",
    "for key, line in lines_by_features.items():\n",
    "    points = {}\n",
    "    for feature in line:\n",
    "        if feature['geometry']:\n",
    "            coord = feature['geometry']['coordinates']\n",
    "            start_code = feature['properties']['pk_debut']\n",
    "            # For correct sorting, we want all numbers to have the same length (e.g. \"97+123\" should be\n",
    "            # \"097+123\", so that \"097+123\" < \"100+345\").\n",
    "            start_code_split = start_code.split('+') if '+' in start_code else start_code.split('-')\n",
    "            start_code = '{:03}+{:03}'.format(int(start_code_split[0]), int(start_code_split[1]))\n",
    "            points[start_code] = coord\n",
    "    lines_by_points.append({'name': key, 'points': points})"
   ]
  },
  {
   "cell_type": "code",
   "execution_count": 5,
   "metadata": {},
   "outputs": [],
   "source": [
    "# Sort by starting code.\n",
    "for i in range(len(lines_by_points)):\n",
    "    lines_by_points[i]['points'] = dict(sorted(lines_by_points[i]['points'].items()))"
   ]
  },
  {
   "cell_type": "markdown",
   "metadata": {},
   "source": [
    "Now that we have the ordered points for each line/track, we simply build a geometrical line by connecting them. We also add some additional GeoJSON properties that will be shown as tooltips, so we can debug/visualize things better on the Folium map."
   ]
  },
  {
   "cell_type": "code",
   "execution_count": 6,
   "metadata": {},
   "outputs": [],
   "source": [
    "lines_geojson_features = []\n",
    "for line_by_points in lines_by_points:\n",
    "    line = []\n",
    "    for start_code, coord in line_by_points['points'].items():\n",
    "        line.append(coord)\n",
    "    name = line_by_points['name'].split(',')\n",
    "    lines_geojson_features.append({'type': 'Feature',\n",
    "     'properties': {'track_label': name[0], 'line_code': name[1], 'track_name': name[2], 'line_name': name[3]},\n",
    "     'geometry': {\n",
    "         'type': 'LineString',\n",
    "         'coordinates': line,\n",
    "     }})"
   ]
  },
  {
   "cell_type": "markdown",
   "metadata": {},
   "source": [
    "We plot the map:"
   ]
  },
  {
   "cell_type": "code",
   "execution_count": 7,
   "metadata": {},
   "outputs": [],
   "source": [
    "for i in range (431,435):\n",
    "    lines_geojson_features[i]['properties']['line_name'] = \"Ligne de Metz-Sablon à Woippy\"\n",
    "for i in range (444,450):\n",
    "    lines_geojson_features[i]['properties']['line_name'] = \"Ligne de Villers-les-Pots à Petit-Croix\"   \n",
    "for i in range (27,29):\n",
    "    lines_geojson_features[i]['properties']['line_name'] = \"Ligne de Tours à Le Mans\" \n",
    "for i in range (76,78):\n",
    "    lines_geojson_features[i]['properties']['line_name'] = \"Ligne de Saint-Cyr à Surdon\"\n",
    "lines_geojson_features[106]['properties']['line_name'] = \"Ligne de Culoz à Modane\"\n",
    "lines_geojson_features[463]['properties']['line_name'] = \"Ligne de Tours à Saint-Pierre-des-Corps\"\n",
    "lines_geojson_features[473]['properties']['line_name'] = 'Ligne de Bordeaux-Saint-Jean à Ravezies '\n",
    "lines_geojson_features[474]['properties']['line_name'] = 'Ligne de Bordeaux-Saint-Jean à Ravezies '\n",
    "lines_geojson_features[908]['properties']['line_name'] = 'Ligne de Sartrouville à Villeneuve-Saint-Georges'\n",
    "lines_geojson_features[909]['properties']['line_name'] = 'Ligne de Sartrouville à Villeneuve-Saint-Georges'\n",
    "lines_geojson_features[912]['properties']['line_name'] = 'Ligne de Gagny à Strasbourg-Ville.'\n",
    "for i in range (913,919):\n",
    "    lines_geojson_features[i]['properties']['line_name'] = 'Ligne de Coubert à gare de Massy TGV'\n",
    "for i in range (992,996):\n",
    "    lines_geojson_features[i]['properties']['line_name'] =\"Ligne de L'Estaque à Marseille St-Charles\"\n",
    "lines_geojson_features[1036]['properties']['line_name'] = 'Ligne de Pont-de-Veyle à Savoie'\n",
    "lines_geojson_features[1037]['properties']['line_name'] = 'Ligne de Pont-de-Veyle à Savoie'\n",
    "lines_geojson_features[1049]['properties']['line_name'] = 'Ligne de Bobigny à Sucy-Bonneuil'\n",
    "lines_geojson_features[1065]['properties']['line_name'] = 'Ligne de St-Amour à Gevrey-Chambertin'\n",
    "lines_geojson_features[1091]['properties']['line_name'] = 'Ligne de Nanterre-La Folie à La Garenne-Bezons'\n",
    "lines_geojson_features[1092]['properties']['line_name'] = 'Ligne de Nanterre-La Folie à La Garenne-Bezons'\n",
    "lines_geojson_features[1230]['properties']['line_name'] = 'Ligne de Lyon-Guillotière à Lyon-Perrache'\n",
    "lines_geojson_features[1231]['properties']['line_name'] = 'Ligne de Lyon-Guillotière à Lyon-Perrache'\n",
    "lines_geojson_features[1286]['properties']['line_name'] = 'Ligne de Lyon-Guillotière à Lyon-Perrache'\n",
    "lines_geojson_features[1287]['properties']['line_name'] = 'Ligne de Lyon-Guillotière à Lyon-Perrache'\n",
    "lines_geojson_features[1358]['properties']['line_name'] = 'Ligne de Dijon à Gevrey-Chambertin'\n",
    "lines_geojson_features[1359]['properties']['line_name'] = 'Ligne de Dijon à Gevrey-Chambertin'\n",
    "for i in range (1408,1411):\n",
    "    lines_geojson_features[i]['properties']['line_name'] = 'Ligne de Grenoble à  Montmélian'\n",
    "lines_geojson_features[1503]['properties']['line_name'] = 'Ligne de Paris à Versailles'\n",
    "lines_geojson_features[1504]['properties']['line_name'] = 'Ligne de Paris à Versailles'\n",
    "lines_geojson_features[1554]['properties']['line_name'] = 'Ligne de Bobigny à Sucy-Bonneuil'\n",
    "lines_geojson_features[1612]['properties']['line_name'] = 'Ligne de Mantes-la-Jolie à Cherbourg'\n",
    "lines_geojson_features[1613]['properties']['line_name'] = 'Ligne de Mantes-la-Jolie à Cherbourg'\n",
    "lines_geojson_features[1704]['properties']['line_name'] = 'Ligne de Mans à la Plumasserie'\n",
    "lines_geojson_features[1705]['properties']['line_name'] = 'Ligne de Mans à la Duboisière'\n",
    "lines_geojson_features[1706]['properties']['line_name'] = 'Ligne de Mans à la St-Georges'\n",
    "lines_geojson_features[1948]['properties']['line_name'] = 'Mogne de La Clarté à Mans'\n",
    "lines_geojson_features[1949]['properties']['line_name'] = 'Mogne de La Clarté à Mans'\n",
    "lines_geojson_features[2116]['properties']['line_name'] = 'Ligne de Bobigny à Sucy-Bonneuil'\n",
    "for i in range (2150,2155):\n",
    "    lines_geojson_features[i]['properties']['line_name'] = 'Ligne de Bobigny à Sucy-Bonneuil'\n",
    "lines_geojson_features[2204]['properties']['line_name'] = 'Ligne de Bobigny à Sucy-Bonneuil'\n",
    "lines_geojson_features[2207]['properties']['line_name'] = 'Ligne de Coubert à gare de Massy TGV'\n",
    "lines_geojson_features[2206]['properties']['line_name'] = 'Ligne de Coubert à gare de Massy TGV'\n",
    "for i in range (2239,2242):\n",
    "    lines_geojson_features[i]['properties']['line_name'] = 'Ligne de Lyon-St-Clair à Sathonay'\n",
    "lines_geojson_features[2459]['properties']['line_name']  = 'Ligne de Lyon-St-Clair à Sathonay'\n",
    "lines_geojson_features[2587]['properties']['line_name'] = \"Ligne de Avignon-Centre à Avignon TGV\"\n",
    "lines_geojson_features[2674]['properties']['line_name'] = 'Ligne de Mans à Pontlieue'\n",
    "lines_geojson_features[2673]['properties']['line_name'] = 'Ligne de Mans à Pontlieue'\n",
    "lines_geojson_features[2784]['properties']['line_name'] = 'Ligne de Grenoble à Montmélian'"
   ]
  },
  {
   "cell_type": "code",
   "execution_count": 8,
   "metadata": {},
   "outputs": [],
   "source": [
    "# Transformations to apply for station names.\n",
    "NORMALIZATIONS = {'ç': 'c',\n",
    "                  'é': 'e',\n",
    "                  'è': 'e',\n",
    "                  'ë': 'e',\n",
    "                  'ô': 'o',\n",
    "                  'â': 'a',\n",
    "                  'î': 'i',\n",
    "                  'ê': 'e',\n",
    "                  '\\\\(': '',\n",
    "                  '\\\\)': '',\n",
    "                  'û': 'u',\n",
    "                  '-': ' '}\n",
    "\n",
    "def get_fixed_name(name):\n",
    "    search = name.lower()\n",
    "    for pat, repl in NORMALIZATIONS.items():\n",
    "        search = search.replace(pat, repl)\n",
    "    return search"
   ]
  },
  {
   "cell_type": "code",
   "execution_count": 10,
   "metadata": {},
   "outputs": [],
   "source": [
    "def get_route(departure, destination):\n",
    "    mylist =[]\n",
    "    for i in range (len(lines_geojson_features)):\n",
    "        pattern = r'(Ligne|Raccordement|Voies) d(\\'|e|u) ?(.*) (à|au|vers|aux|à) (.*)'\n",
    "        a = re.findall(pattern, lines_geojson_features[i]['properties']['line_name'])\n",
    "        if (a != []):\n",
    "            dep = get_fixed_name(a[0][2])\n",
    "            dest = get_fixed_name(a[0][4])\n",
    "            departure = get_fixed_name(departure)\n",
    "            destination = get_fixed_name(destination)\n",
    "        \n",
    "            if ((departure == dep) and (destination == dest)) or ((departure == dest) and (destination == dep)):\n",
    "                mylist.append(lines_geojson_features[i])\n",
    "                #print(\"-----------------------------------\")\n",
    "                #print(\"i = \" + str(i))\n",
    "                #print(lines_geojson_features[i])\n",
    "    return mylist"
   ]
  },
  {
   "cell_type": "code",
   "execution_count": 12,
   "metadata": {},
   "outputs": [
    {
     "data": {
      "text/plain": [
       "[]"
      ]
     },
     "execution_count": 12,
     "metadata": {},
     "output_type": "execute_result"
    }
   ],
   "source": [
    "get_route('Lièpvre','Sélestat')"
   ]
  },
  {
   "cell_type": "code",
   "execution_count": 11,
   "metadata": {},
   "outputs": [
    {
     "data": {
      "text/html": [
       "<div style=\"width:100%;\"><div style=\"position:relative;width:100%;height:0;padding-bottom:60%;\"><iframe src=\"data:text/html;charset=utf-8;base64,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\" style=\"position:absolute;width:100%;height:100%;left:0;top:0;border:none !important;\" allowfullscreen webkitallowfullscreen mozallowfullscreen></iframe></div></div>"
      ],
      "text/plain": [
       "<folium.folium.Map at 0x7f8467f94f98>"
      ]
     },
     "execution_count": 11,
     "metadata": {},
     "output_type": "execute_result"
    }
   ],
   "source": [
    "lines_geojson = {'type': 'FeatureCollection', 'features': get_route('Évreux-Embranchement','Quetteville')}\n",
    "map_ = folium.Map([48.8566, 2.3522], tiles='cartodbpositron', zoom_start=5)\n",
    "folium.GeoJson(lines_geojson,\n",
    "               tooltip=folium.GeoJsonTooltip(fields=['track_label', 'track_name', 'line_code', 'line_name'],\n",
    "                                             aliases=['Track label', 'Track name', 'Line code', 'Line name'])\n",
    "              ).add_to(map_)\n",
    "map_"
   ]
  },
  {
   "cell_type": "code",
   "execution_count": null,
   "metadata": {},
   "outputs": [],
   "source": []
  }
 ],
 "metadata": {
  "kernelspec": {
   "display_name": "Python 3",
   "language": "python",
   "name": "python3"
  },
  "language_info": {
   "codemirror_mode": {
    "name": "ipython",
    "version": 3
   },
   "file_extension": ".py",
   "mimetype": "text/x-python",
   "name": "python",
   "nbconvert_exporter": "python",
   "pygments_lexer": "ipython3",
   "version": "3.7.1"
  }
 },
 "nbformat": 4,
 "nbformat_minor": 2
}

{
 "cells": [
  {
   "cell_type": "code",
   "execution_count": 4,
   "metadata": {
    "collapsed": false
   },
   "outputs": [],
   "source": [
    "import pandas as pd\n",
    "import networkx as nx"
   ]
  },
  {
   "cell_type": "code",
   "execution_count": 5,
   "metadata": {
    "collapsed": false
   },
   "outputs": [],
   "source": [
    "with open(\"./tarifs-intercites-100-eco.csv\") as f:\n",
    "    content = f.readlines()\n",
    "content[0] = content[0].replace(\"\\n\",\";\")+content[1]\n",
    "with open(\"./tarifs-intercites-100-eco_modified.csv\", \"w\") as f:\n",
    "    f.write(\"\\n\".join(content))"
   ]
  },
  {
   "cell_type": "code",
   "execution_count": 6,
   "metadata": {
    "collapsed": false
   },
   "outputs": [],
   "source": [
    "table_intercity = pd.read_csv(\"./tarifs-intercites-100-eco_modified.csv\",skiprows= [2],header = 0, delimiter=\";\")\n",
    "cols = table_intercity.columns\n",
    "table_intercity = table_intercity[[cols[0],cols[1],cols[-2]]]"
   ]
  },
  {
   "cell_type": "code",
   "execution_count": 7,
   "metadata": {
    "collapsed": false
   },
   "outputs": [],
   "source": [
    "table_stations = pd.read_csv(\"./liste-des-gares.csv\",header = 0, delimiter=\";\")\n",
    "cols_stations = table_stations.columns\n",
    "table_stations = table_stations[[cols_stations[1], cols_stations[13], cols_stations[14]]]"
   ]
  },
  {
   "cell_type": "code",
   "execution_count": 8,
   "metadata": {
    "collapsed": false
   },
   "outputs": [],
   "source": [
    "table_intercity[cols[0]] = table_intercity[cols[0]].apply(lambda x : x.lower().replace(\" \",\"-\"))\n",
    "table_intercity[cols[1]] = table_intercity[cols[1]].apply(lambda x : x.lower().replace(\" \",\"-\"))\n",
    "table_stations[cols_stations[1]] = table_stations[cols_stations[1]].apply(lambda x : x.lower().replace(\"î\",\"i\").replace(\"ù\",\"u\").replace(\"û\",\"u\").replace(\"à\",\"a\").replace(\"â\",\"a\").replace(\"ç\",\"c\").replace(\"é\",\"e\").replace(\"è\",\"e\").replace(\"ê\",\"e\"))"
   ]
  },
  {
   "cell_type": "code",
   "execution_count": 9,
   "metadata": {
    "collapsed": false
   },
   "outputs": [],
   "source": [
    "joined_tables = table_stations.set_index(cols_stations[1]).join(table_intercity.set_index(cols[1]), how = 'inner').reset_index().rename(columns = {\"index\": \"Destination \"})\n",
    "joined_tables = joined_tables.rename(columns = {cols_stations[13] : \"Longitude\",cols_stations[14] :\"Latitude\" ,cols[-2]:\"Price\"})"
   ]
  },
  {
   "cell_type": "code",
   "execution_count": 10,
   "metadata": {
    "collapsed": false
   },
   "outputs": [],
   "source": [
    "G = nx.from_pandas_edgelist(joined_tables, source=cols[0], target=cols[1], edge_attr=[\"Price\",\"Longitude\",\"Latitude\"])"
   ]
  },
  {
   "cell_type": "code",
   "execution_count": 11,
   "metadata": {
    "collapsed": false
   },
   "outputs": [
    {
     "data": {
      "text/plain": [
       "AtlasView({'amboise': {'Price': 34.0, 'Longitude': 0.9811448600580964, 'Latitude': 47.421508738952035}, 'blois': {'Price': 41.2, 'Longitude': 1.3247121907280983, 'Latitude': 47.59646861360754}, 'paris-austerlitz': {'Price': 73.0, 'Longitude': 2.367037639567501, 'Latitude': 48.840495214247525}, 'st-pierre-des-corps': {'Price': 28.5, 'Longitude': 0.7799201728301504, 'Latitude': 47.39031479420265}})"
      ]
     },
     "execution_count": 11,
     "metadata": {},
     "output_type": "execute_result"
    }
   ],
   "source": [
    "G[\"angers-st-laud\"]"
   ]
  }
 ],
 "metadata": {
  "kernelspec": {
   "display_name": "Python 3",
   "language": "python",
   "name": "python3"
  },
  "language_info": {
   "codemirror_mode": {
    "name": "ipython",
    "version": 3
   },
   "file_extension": ".py",
   "mimetype": "text/x-python",
   "name": "python",
   "nbconvert_exporter": "python",
   "pygments_lexer": "ipython3",
   "version": "3.6.0"
  }
 },
 "nbformat": 4,
 "nbformat_minor": 2
}

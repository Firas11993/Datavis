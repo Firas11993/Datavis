{
 "cells": [
  {
   "cell_type": "code",
   "execution_count": 1,
   "metadata": {},
   "outputs": [],
   "source": [
    "import pandas as pd\n",
    "import networkx as nx"
   ]
  },
  {
   "cell_type": "code",
   "execution_count": 2,
   "metadata": {},
   "outputs": [],
   "source": [
    "DATA_DIR = 'data/'"
   ]
  },
  {
   "cell_type": "code",
   "execution_count": 3,
   "metadata": {},
   "outputs": [],
   "source": [
    "intercity_prices = pd.read_csv(DATA_DIR + '_intercity_prices.csv')\n",
    "tgv_prices = pd.read_csv(DATA_DIR + '_tgv_prices.csv')\n",
    "stations = pd.read_csv(DATA_DIR + '_stations.csv')"
   ]
  },
  {
   "cell_type": "code",
   "execution_count": 4,
   "metadata": {},
   "outputs": [
    {
     "data": {
      "text/html": [
       "<div>\n",
       "<style scoped>\n",
       "    .dataframe tbody tr th:only-of-type {\n",
       "        vertical-align: middle;\n",
       "    }\n",
       "\n",
       "    .dataframe tbody tr th {\n",
       "        vertical-align: top;\n",
       "    }\n",
       "\n",
       "    .dataframe thead th {\n",
       "        text-align: right;\n",
       "    }\n",
       "</style>\n",
       "<table border=\"1\" class=\"dataframe\">\n",
       "  <thead>\n",
       "    <tr style=\"text-align: right;\">\n",
       "      <th></th>\n",
       "      <th>Origin</th>\n",
       "      <th>Destination</th>\n",
       "      <th>Price</th>\n",
       "    </tr>\n",
       "  </thead>\n",
       "  <tbody>\n",
       "    <tr>\n",
       "      <th>0</th>\n",
       "      <td>Angers-St-Laud</td>\n",
       "      <td>Amboise</td>\n",
       "      <td>34.0</td>\n",
       "    </tr>\n",
       "    <tr>\n",
       "      <th>1</th>\n",
       "      <td>La Baule-Escoublac</td>\n",
       "      <td>Amboise</td>\n",
       "      <td>68.0</td>\n",
       "    </tr>\n",
       "    <tr>\n",
       "      <th>2</th>\n",
       "      <td>St-Nazaire</td>\n",
       "      <td>Amboise</td>\n",
       "      <td>65.0</td>\n",
       "    </tr>\n",
       "    <tr>\n",
       "      <th>3</th>\n",
       "      <td>Paris-Austerlitz</td>\n",
       "      <td>Blois</td>\n",
       "      <td>44.0</td>\n",
       "    </tr>\n",
       "    <tr>\n",
       "      <th>4</th>\n",
       "      <td>St-Nazaire</td>\n",
       "      <td>Blois</td>\n",
       "      <td>73.0</td>\n",
       "    </tr>\n",
       "  </tbody>\n",
       "</table>\n",
       "</div>"
      ],
      "text/plain": [
       "               Origin Destination  Price\n",
       "0      Angers-St-Laud     Amboise   34.0\n",
       "1  La Baule-Escoublac     Amboise   68.0\n",
       "2          St-Nazaire     Amboise   65.0\n",
       "3    Paris-Austerlitz       Blois   44.0\n",
       "4          St-Nazaire       Blois   73.0"
      ]
     },
     "execution_count": 4,
     "metadata": {},
     "output_type": "execute_result"
    }
   ],
   "source": [
    "prices = pd.concat([intercity_prices, tgv_prices])\n",
    "prices.head(5)"
   ]
  },
  {
   "cell_type": "code",
   "execution_count": 5,
   "metadata": {},
   "outputs": [],
   "source": [
    "G = nx.from_pandas_edgelist(prices, source='Origin', target='Destination', edge_attr=['Price'])"
   ]
  },
  {
   "cell_type": "code",
   "execution_count": 6,
   "metadata": {},
   "outputs": [
    {
     "name": "stdout",
     "output_type": "stream",
     "text": [
      "Destination: Angers-St-Laud (-0.5568, 47.4644)\n",
      "Departures:\n",
      "- Amboise (0.9811, 47.4215)                                         -> $34.0\n",
      "- Paris-Austerlitz (2.3670, 48.8405)                                -> $73.0\n",
      "- Les Aubrais-Orléans (1.9063, 47.9258)                             -> $51.8\n",
      "- Blois (1.3239, 47.5939)                                           -> $41.2\n",
      "- St-Pierre-des-Corps (0.7224, 47.3850)                             -> $22.5\n",
      "- Nancy-Ville (6.1741, 48.6897)                                     -> $112.0\n",
      "- Nantes (-1.5442, 47.2165)                                         -> $19.5\n",
      "- Sablé (-0.3421, 47.8419)                                          -> $12.1\n",
      "- Champagne-Ardenne-TGV (3.9937, 49.2146)                           -> $92.0\n",
      "- Le Creusot-Montceau-Montchanin (4.5001, 46.7652)                  -> $95.0\n",
      "- Lille-Europe (3.0754, 50.6394)                                    -> $101.0\n",
      "- Lorraine-TGV (6.1733, 48.9480)                                    -> $112.0\n",
      "- Valence (4.8956, 44.9381)                                         -> $116.0\n",
      "- Pornichet (-2.3447, 47.2707)                                      -> $32.0\n",
      "- Vannes (-2.7524, 47.6652)                                         -> $39.0\n",
      "- Lorient (-3.3663, 47.7551)                                        -> $45.0\n",
      "- La Baule-Escoublac (-2.3893, 47.2887)                             -> $32.0\n",
      "- Massy-Palaiseau-Grande-Ceinture (2.2547, 48.7235)                 -> $57.0\n",
      "- Chambéry-Challes-les-Eaux (nan, nan)                              -> $120.0\n",
      "- Cluses (6.5827, 46.0614)                                          -> $120.0\n",
      "- Albertville (6.3725, 45.6692)                                     -> $120.0\n",
      "- St-Avre-la-Chambre (6.3034, 45.3528)                              -> $120.0\n",
      "- Aix-en-Provence-TGV (5.3173, 43.4552)                             -> $133.0\n",
      "- Saumur-Rive-Droite (-0.0715, 47.2687)                             -> $11.3\n",
      "- St-Nazaire (-2.2113, 47.2868)                                     -> $30.0\n",
      "- Rennes (-1.6729, 48.1031)                                         -> $41.0\n",
      "- Auray (-2.9996, 47.6802)                                          -> $41.0\n",
      "- Roissy-Aéroport-Charles-de-Gaulle 2-TGV (TGV) (2.5712, 49.0040)   -> $75.0\n",
      "- Le Pouliguen (-2.4332, 47.2826)                                   -> $33.0\n",
      "- Le Croisic (-2.5069, 47.2898)                                     -> $34.0\n",
      "- St-Brieuc (-2.7650, 48.5072)                                      -> $53.0\n",
      "- Quimper (-4.0925, 47.9949)                                        -> $53.0\n",
      "- Guingamp (-3.1571, 48.5530)                                       -> $57.0\n",
      "- Morlaix (-3.8325, 48.5780)                                        -> $63.0\n",
      "- Brest (-4.4792, 48.3879)                                          -> $74.0\n",
      "- Paris-Montparnasse (2.3198, 48.8406)                              -> $75.0\n",
      "- Aime-La Plagne (6.6487, 45.5544)                                  -> $120.0\n",
      "- Aix-les-Bains-Le Revard (5.9089, 45.6882)                         -> $120.0\n",
      "- Marne-la-Vallée-Chessy (2.7827, 48.8699)                          -> $73.0\n",
      "- Ancenis (-1.1778, 47.3695)                                        -> $13.0\n",
      "- Le Mans (nan, nan)                                                -> $21.0\n",
      "- Lyon-Part-Dieu (4.8602, 45.7605)                                  -> $99.0\n",
      "- Massy-TGV (2.2548, 48.7179)                                       -> $73.0\n",
      "- Marseille-St-Charles (nan, nan)                                   -> $133.0\n",
      "- Nîmes (4.3662, 43.8325)                                           -> $133.0\n",
      "- Avignon-TGV (4.7860, 43.9219)                                     -> $133.0\n",
      "- Lille-Flandres (3.0704, 50.6363)                                  -> $101.0\n",
      "- Arras (2.7692, 50.2798)                                           -> $101.0\n",
      "- Grenoble (5.7185, 45.1821)                                        -> $115.0\n",
      "- St-Gervais-les-Bains-Le Fayet (6.7022, 45.9069)                   -> $120.0\n",
      "- Landry (6.7335, 45.5740)                                          -> $120.0\n",
      "- Modane (6.6594, 45.1934)                                          -> $120.0\n",
      "- Sallanches-Combloux-Megève (6.6365, 45.9358)                      -> $120.0\n",
      "- Savenay (-1.9557, 47.3601)                                        -> $26.0\n",
      "- La Roche-sur-Yon (-1.4371, 46.6811)                               -> $29.0\n",
      "- Les Sables-d'Olonne (-1.7816, 46.5002)                            -> $32.0\n",
      "- Redon (-2.0769, 47.6480)                                          -> $32.0\n",
      "- Douai (3.0904, 50.3716)                                           -> $101.0\n",
      "- Bourg-St-Maurice (6.7715, 45.6183)                                -> $120.0\n",
      "- Annecy (6.1218, 45.9022)                                          -> $120.0\n",
      "- St-Michel-Valloire (6.4719, 45.2169)                              -> $120.0\n",
      "- Annemasse (nan, nan)                                              -> $120.0\n",
      "- La Roche-sur-Foron (6.3037, 46.0675)                              -> $120.0\n",
      "- TGV Haute-Picardie (2.8320, 49.8578)                              -> $89.0\n",
      "- Valence-TGV (4.9787, 44.9914)                                     -> $116.0\n",
      "- Vendôme-Villiers-sur-Loir (1.0150, 47.8095)                       -> $31.0\n",
      "- Strasbourg-Ville (7.7316, 48.5829)                                -> $141.0\n",
      "- Moûtiers-Salins-Brides-les-Bains (6.5315, 45.4865)                -> $120.0\n",
      "- St-Jean-de-Maurienne-Arvan (6.3549, 45.2778)                      -> $120.0\n",
      "- Montpellier (CNM) (3.9135, 43.5906)                               -> $133.0\n",
      "- Lyon-Perrache-Voyageurs (4.8232, 45.7481)                         -> $96.0\n",
      "- Lyon-St-Exupéry-TGV (5.0759, 45.7209)                             -> $96.0\n",
      "- Saverne (7.3621, 48.7446)                                         -> $136.0\n"
     ]
    }
   ],
   "source": [
    "# Example.\n",
    "source = 'Angers-St-Laud'\n",
    "coords = stations[stations.Name == source][['Longitude', 'Latitude']].iloc[0]\n",
    "print('Destination: {} ({:.4f}, {:.4f})'.format(source, coords[0], coords[1]))\n",
    "\n",
    "print('Departures:')\n",
    "dests = G[source]\n",
    "for dest in dests:\n",
    "    coords = stations[stations.Name == dest][['Longitude', 'Latitude']].iloc[0]\n",
    "    name = '{} ({:.4f}, {:.4f})'.format(dest, coords[0], coords[1])\n",
    "    print('- {:<65} -> ${}'.format(name, dests[dest]['Price']))"
   ]
  },
  {
   "cell_type": "code",
   "execution_count": null,
   "metadata": {},
   "outputs": [],
   "source": []
  }
 ],
 "metadata": {
  "kernelspec": {
   "display_name": "Python 3",
   "language": "python",
   "name": "python3"
  },
  "language_info": {
   "codemirror_mode": {
    "name": "ipython",
    "version": 3
   },
   "file_extension": ".py",
   "mimetype": "text/x-python",
   "name": "python",
   "nbconvert_exporter": "python",
   "pygments_lexer": "ipython3",
   "version": "3.7.1"
  }
 },
 "nbformat": 4,
 "nbformat_minor": 2
}

{
 "cells": [
  {
   "cell_type": "code",
   "execution_count": 1,
   "metadata": {},
   "outputs": [],
   "source": [
    "import pandas as pd"
   ]
  },
  {
   "cell_type": "code",
   "execution_count": 2,
   "metadata": {},
   "outputs": [],
   "source": [
    "DATA_DIR = 'data/'"
   ]
  },
  {
   "cell_type": "code",
   "execution_count": 3,
   "metadata": {},
   "outputs": [],
   "source": [
    "stations = pd.read_csv(DATA_DIR + 'liste-des-gares.csv', delimiter=';')\n",
    "stations = stations[['LIBELLE_GARE', 'COMMUNE', 'X (WGS84)', 'Y (WGS84)']]\n",
    "stations.columns = ['Name', 'Commune', 'Longitude', 'Latitude']\n",
    "stations.Commune = stations.Commune.fillna(stations.Name)\n",
    "stations = stations.drop_duplicates(['Name', 'Commune'])"
   ]
  },
  {
   "cell_type": "code",
   "execution_count": 4,
   "metadata": {},
   "outputs": [
    {
     "data": {
      "text/html": [
       "<div>\n",
       "<style scoped>\n",
       "    .dataframe tbody tr th:only-of-type {\n",
       "        vertical-align: middle;\n",
       "    }\n",
       "\n",
       "    .dataframe tbody tr th {\n",
       "        vertical-align: top;\n",
       "    }\n",
       "\n",
       "    .dataframe thead th {\n",
       "        text-align: right;\n",
       "    }\n",
       "</style>\n",
       "<table border=\"1\" class=\"dataframe\">\n",
       "  <thead>\n",
       "    <tr style=\"text-align: right;\">\n",
       "      <th></th>\n",
       "      <th>Name</th>\n",
       "      <th>Commune</th>\n",
       "      <th>Longitude</th>\n",
       "      <th>Latitude</th>\n",
       "    </tr>\n",
       "  </thead>\n",
       "  <tbody>\n",
       "    <tr>\n",
       "      <th>0</th>\n",
       "      <td>La Villeneuve-au-Chène</td>\n",
       "      <td>La Villeneuve-au-Chêne</td>\n",
       "      <td>4.388954</td>\n",
       "      <td>48.229212</td>\n",
       "    </tr>\n",
       "    <tr>\n",
       "      <th>1</th>\n",
       "      <td>St-Léger-Moussey</td>\n",
       "      <td>St-Léger-près-Troyes</td>\n",
       "      <td>4.083673</td>\n",
       "      <td>48.227726</td>\n",
       "    </tr>\n",
       "    <tr>\n",
       "      <th>2</th>\n",
       "      <td>Romilly-sur-Seine</td>\n",
       "      <td>Romilly-sur-Seine</td>\n",
       "      <td>3.728583</td>\n",
       "      <td>48.514017</td>\n",
       "    </tr>\n",
       "    <tr>\n",
       "      <th>3</th>\n",
       "      <td>Buchères-Verrières</td>\n",
       "      <td>Buchères</td>\n",
       "      <td>4.132616</td>\n",
       "      <td>48.231727</td>\n",
       "    </tr>\n",
       "    <tr>\n",
       "      <th>4</th>\n",
       "      <td>Mussy-sur-Seine</td>\n",
       "      <td>Mussy-sur-Seine</td>\n",
       "      <td>4.493168</td>\n",
       "      <td>47.978344</td>\n",
       "    </tr>\n",
       "  </tbody>\n",
       "</table>\n",
       "</div>"
      ],
      "text/plain": [
       "                     Name                 Commune  Longitude   Latitude\n",
       "0  La Villeneuve-au-Chène  La Villeneuve-au-Chêne   4.388954  48.229212\n",
       "1        St-Léger-Moussey    St-Léger-près-Troyes   4.083673  48.227726\n",
       "2       Romilly-sur-Seine       Romilly-sur-Seine   3.728583  48.514017\n",
       "3      Buchères-Verrières                Buchères   4.132616  48.231727\n",
       "4         Mussy-sur-Seine         Mussy-sur-Seine   4.493168  47.978344"
      ]
     },
     "execution_count": 4,
     "metadata": {},
     "output_type": "execute_result"
    }
   ],
   "source": [
    "stations.head()"
   ]
  },
  {
   "cell_type": "code",
   "execution_count": 5,
   "metadata": {},
   "outputs": [],
   "source": [
    "stations.to_csv(DATA_DIR + '_stations.csv', index=False)"
   ]
  },
  {
   "cell_type": "code",
   "execution_count": null,
   "metadata": {},
   "outputs": [],
   "source": []
  }
 ],
 "metadata": {
  "kernelspec": {
   "display_name": "Python 3",
   "language": "python",
   "name": "python3"
  },
  "language_info": {
   "codemirror_mode": {
    "name": "ipython",
    "version": 3
   },
   "file_extension": ".py",
   "mimetype": "text/x-python",
   "name": "python",
   "nbconvert_exporter": "python",
   "pygments_lexer": "ipython3",
   "version": "3.7.1"
  }
 },
 "nbformat": 4,
 "nbformat_minor": 2
}

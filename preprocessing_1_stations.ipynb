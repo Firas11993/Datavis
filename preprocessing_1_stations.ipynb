{
 "cells": [
  {
   "cell_type": "code",
   "execution_count": 1,
   "metadata": {},
   "outputs": [],
   "source": [
    "import pandas as pd"
   ]
  },
  {
   "cell_type": "code",
   "execution_count": 2,
   "metadata": {},
   "outputs": [],
   "source": [
    "DATA_DIR = 'data/'"
   ]
  },
  {
   "cell_type": "code",
   "execution_count": 15,
   "metadata": {},
   "outputs": [],
   "source": [
    "stations = pd.read_csv(DATA_DIR + 'liste-des-gares.csv', delimiter=';')\n",
    "stations = stations[['LIBELLE_GARE', 'COMMUNE', 'X (WGS84)', 'Y (WGS84)']]\n",
    "stations.columns = ['Name', 'Commune', 'Longitude', 'Latitude']\n",
    "stations.Commune = stations.Commune.fillna(stations.Name)\n",
    "stations = stations.sort_values('Longitude')\n",
    "stations = stations.drop_duplicates(['Name', 'Commune'])"
   ]
  },
  {
   "cell_type": "code",
   "execution_count": 16,
   "metadata": {},
   "outputs": [
    {
     "data": {
      "text/html": [
       "<div>\n",
       "<style scoped>\n",
       "    .dataframe tbody tr th:only-of-type {\n",
       "        vertical-align: middle;\n",
       "    }\n",
       "\n",
       "    .dataframe tbody tr th {\n",
       "        vertical-align: top;\n",
       "    }\n",
       "\n",
       "    .dataframe thead th {\n",
       "        text-align: right;\n",
       "    }\n",
       "</style>\n",
       "<table border=\"1\" class=\"dataframe\">\n",
       "  <thead>\n",
       "    <tr style=\"text-align: right;\">\n",
       "      <th></th>\n",
       "      <th>Name</th>\n",
       "      <th>Commune</th>\n",
       "      <th>Longitude</th>\n",
       "      <th>Latitude</th>\n",
       "    </tr>\n",
       "  </thead>\n",
       "  <tbody>\n",
       "    <tr>\n",
       "      <th>6723</th>\n",
       "      <td>Brest</td>\n",
       "      <td>Brest</td>\n",
       "      <td>-4.479243</td>\n",
       "      <td>48.387930</td>\n",
       "    </tr>\n",
       "    <tr>\n",
       "      <th>6725</th>\n",
       "      <td>Le Rody</td>\n",
       "      <td>Guipavas</td>\n",
       "      <td>-4.422451</td>\n",
       "      <td>48.398778</td>\n",
       "    </tr>\n",
       "    <tr>\n",
       "      <th>4692</th>\n",
       "      <td>Kerhuon</td>\n",
       "      <td>Le Relecq-Kerhuon</td>\n",
       "      <td>-4.388233</td>\n",
       "      <td>48.409605</td>\n",
       "    </tr>\n",
       "    <tr>\n",
       "      <th>7305</th>\n",
       "      <td>La Forest</td>\n",
       "      <td>La Forest-Landerneau</td>\n",
       "      <td>-4.307191</td>\n",
       "      <td>48.426350</td>\n",
       "    </tr>\n",
       "    <tr>\n",
       "      <th>4686</th>\n",
       "      <td>Dirinon Loperhet</td>\n",
       "      <td>Loperhet</td>\n",
       "      <td>-4.285642</td>\n",
       "      <td>48.392686</td>\n",
       "    </tr>\n",
       "  </tbody>\n",
       "</table>\n",
       "</div>"
      ],
      "text/plain": [
       "                  Name               Commune  Longitude   Latitude\n",
       "6723             Brest                 Brest  -4.479243  48.387930\n",
       "6725           Le Rody              Guipavas  -4.422451  48.398778\n",
       "4692           Kerhuon     Le Relecq-Kerhuon  -4.388233  48.409605\n",
       "7305         La Forest  La Forest-Landerneau  -4.307191  48.426350\n",
       "4686  Dirinon Loperhet              Loperhet  -4.285642  48.392686"
      ]
     },
     "execution_count": 16,
     "metadata": {},
     "output_type": "execute_result"
    }
   ],
   "source": [
    "stations.head()"
   ]
  },
  {
   "cell_type": "code",
   "execution_count": 17,
   "metadata": {},
   "outputs": [],
   "source": [
    "stations.to_csv(DATA_DIR + '_stations.csv', index=False)"
   ]
  },
  {
   "cell_type": "code",
   "execution_count": null,
   "metadata": {},
   "outputs": [],
   "source": []
  }
 ],
 "metadata": {
  "kernelspec": {
   "display_name": "Python 3",
   "language": "python",
   "name": "python3"
  },
  "language_info": {
   "codemirror_mode": {
    "name": "ipython",
    "version": 3
   },
   "file_extension": ".py",
   "mimetype": "text/x-python",
   "name": "python",
   "nbconvert_exporter": "python",
   "pygments_lexer": "ipython3",
   "version": "3.7.1"
  }
 },
 "nbformat": 4,
 "nbformat_minor": 2
}

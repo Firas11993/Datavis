{
 "cells": [
  {
   "cell_type": "code",
   "execution_count": 132,
   "metadata": {},
   "outputs": [],
   "source": [
    "import pandas as pd "
   ]
  },
  {
   "cell_type": "code",
   "execution_count": 150,
   "metadata": {},
   "outputs": [],
   "source": [
    "intercites = pd.read_csv('liste-des-gares.csv',header=0,delimiter=';')\n",
    "intercities_final = intercites[['LIBELLE_GARE','X (WGS84)','Y (WGS84)']]\n",
    "cols =  intercities_final.columns"
   ]
  },
  {
   "cell_type": "code",
   "execution_count": 162,
   "metadata": {},
   "outputs": [],
   "source": [
    "intercities_final[cols[0]] = intercities_final[cols[0]].apply(lambda x : x.lower().replace(\"é\",\"e\").replace(\"è\",\"e\").replace(\"ê\",\"e\")\\\n",
    "                                                             .replace(\"â\",\"a\").replace(\"ç\",\"c\").replace(\"à\",\"a\").replace(\"û\",\"u\")\\\n",
    "                                                             .replace(\"ù\",\"u\").replace(\"î\",\"i\"))"
   ]
  },
  {
   "cell_type": "code",
   "execution_count": 163,
   "metadata": {},
   "outputs": [],
   "source": [
    "intercities_final = intercities_final.drop_duplicates(subset=cols[0])\n"
   ]
  },
  {
   "cell_type": "code",
   "execution_count": 164,
   "metadata": {},
   "outputs": [],
   "source": [
    "stations = intercities_final.set_index('LIBELLE_GARE')"
   ]
  },
  {
   "cell_type": "code",
   "execution_count": 165,
   "metadata": {},
   "outputs": [
    {
     "data": {
      "text/plain": [
       "True"
      ]
     },
     "execution_count": 165,
     "metadata": {},
     "output_type": "execute_result"
    }
   ],
   "source": [
    "stations.index.is_unique"
   ]
  },
  {
   "cell_type": "code",
   "execution_count": 167,
   "metadata": {},
   "outputs": [],
   "source": [
    "stations.to_json(path_or_buf='stations.json', orient='index')"
   ]
  }
 ],
 "metadata": {
  "kernelspec": {
   "display_name": "Python 3",
   "language": "python",
   "name": "python3"
  },
  "language_info": {
   "codemirror_mode": {
    "name": "ipython",
    "version": 3
   },
   "file_extension": ".py",
   "mimetype": "text/x-python",
   "name": "python",
   "nbconvert_exporter": "python",
   "pygments_lexer": "ipython3",
   "version": "3.7.0"
  }
 },
 "nbformat": 4,
 "nbformat_minor": 2
}

{
 "cells": [
  {
   "cell_type": "code",
   "execution_count": 1,
   "metadata": {},
   "outputs": [],
   "source": [
    "import pandas as pd \n",
    "import networkx as nx\n",
    "import numpy as np\n",
    "from functools import reduce\n",
    "import datetime\n",
    "import tqdm\n",
    "import ast\n",
    "import json\n",
    "import sys\n",
    "import time\n",
    "import pickle\n",
    "import re"
   ]
  },
  {
   "cell_type": "code",
   "execution_count": 2,
   "metadata": {},
   "outputs": [],
   "source": [
    "timetable_intercity = pd.read_csv(\"./data/export-intercites-gtfs-last/timetable_intercity.csv\")\n",
    "timetable_ter = pd.read_csv(\"./data/ter/timetable_ter.csv\")"
   ]
  },
  {
   "cell_type": "code",
   "execution_count": 3,
   "metadata": {},
   "outputs": [],
   "source": [
    "timetable = pd.concat([timetable_intercity, timetable_ter], sort=True)"
   ]
  },
  {
   "cell_type": "code",
   "execution_count": 4,
   "metadata": {},
   "outputs": [],
   "source": [
    "timetable[\"after\"] = timetable[\"arrival_time\"].apply(\n",
    "    lambda x: datetime.datetime.strptime(ast.literal_eval(x)[0], \"%H:%M:%S\"))\n",
    "timetable[\"before\"] = timetable[\"arrival_time\"].apply(\n",
    "    lambda x: datetime.datetime.strptime(ast.literal_eval(x)[-1], \"%H:%M:%S\"))"
   ]
  },
  {
   "cell_type": "code",
   "execution_count": 5,
   "metadata": {},
   "outputs": [],
   "source": [
    "def build_graph_within_timeframe(start_time, timeframe, timetable) : \n",
    "    stop_2_id = {}\n",
    "    start_time = datetime.datetime.strptime(start_time, \"%H:%M:%S\")\n",
    "\n",
    "    timetable = timetable[timetable[\"before\"] >= start_time]\n",
    "    timetable = timetable[timetable[\"after\" ] <= start_time + datetime.timedelta(0,timeframe*60)]\n",
    "    G = nx.Graph()\n",
    "\n",
    "    frame_indices = []\n",
    "    start = time.time()\n",
    "    for i in timetable.index : \n",
    "        try :           \n",
    "            arrival_times = ast.literal_eval(timetable[\"arrival_time\"][i])\n",
    "            times = [datetime.datetime.strptime(arrival_times[j], \"%H:%M:%S\") for j in range(len(arrival_times))]\n",
    "            filtered_times = [time_ for time_ in times if (time_ - start_time).seconds <= (timeframe * 60)]\n",
    "\n",
    "            indices = np.array([times.index(time) for time in filtered_times])\n",
    "\n",
    "            if len(indices) == 0: continue\n",
    "\n",
    "            frame_indices.append(i)\n",
    "\n",
    "            departure_times = list(np.array(ast.literal_eval(timetable[\"departure_time\"][i]))[indices])\n",
    "            arrival_times = list(np.array(ast.literal_eval(timetable[\"arrival_time\"][i]))[indices])\n",
    "\n",
    "            stop_names = list(np.array(ast.literal_eval(timetable[\"stop_name\"][i]))[indices])\n",
    "        except ValueError : \n",
    "            #print(timetable[\"stop_name\"][i])\n",
    "            continue\n",
    "\n",
    "        longitudes = list(np.array(ast.literal_eval(timetable[\"stop_lon\"][i]))[indices])\n",
    "        latitudes = list(np.array(ast.literal_eval(timetable[\"stop_lat\"][i]))[indices])\n",
    "        prices = [0.] + ast.literal_eval(timetable[\"prices\"][i])\n",
    "\n",
    "        prices = list(np.array(prices)[indices])\n",
    "        for k in range(len(stop_names)-1) :  \n",
    "            curr_stop = stop_names[k]\n",
    "            next_stop = stop_names[k+1]\n",
    "\n",
    "            if curr_stop not in stop_2_id.keys() : \n",
    "                stop_2_id[curr_stop] = len(stop_2_id.keys())\n",
    "            if next_stop not in stop_2_id.keys(): \n",
    "                stop_2_id[next_stop] = len(stop_2_id.keys())\n",
    "\n",
    "            G.add_edge(stop_2_id[curr_stop], stop_2_id[next_stop], weight=prices[k+1],\n",
    "                       departure_time=departure_times[k], arrival_time=arrival_times[k+1], \n",
    "                       lon_lat=(longitudes[k+1], latitudes[k+1]))\n",
    "    paths = nx.shortest_path(G)\n",
    "    print(\"Execution time {:.2f} seconds\".format(time.time() - start))\n",
    "    return G, paths, stop_2_id"
   ]
  },
  {
   "cell_type": "code",
   "execution_count": 6,
   "metadata": {
    "scrolled": false
   },
   "outputs": [
    {
     "name": "stdout",
     "output_type": "stream",
     "text": [
      "Execution time 28.06 seconds\n"
     ]
    }
   ],
   "source": [
    "graph, paths, stop_2_id = build_graph_within_timeframe(\"07:30:00\", 8 * 60, timetable)"
   ]
  },
  {
   "cell_type": "code",
   "execution_count": 7,
   "metadata": {},
   "outputs": [
    {
     "data": {
      "text/plain": [
       "{'weight': 49.0,\n",
       " 'departure_time': '08:21:00',\n",
       " 'arrival_time': '11:06:00',\n",
       " 'lon_lat': (6.17427169, 48.68978225)}"
      ]
     },
     "execution_count": 7,
     "metadata": {},
     "output_type": "execute_result"
    }
   ],
   "source": [
    "graph.edges[(0, 1)]"
   ]
  },
  {
   "cell_type": "code",
   "execution_count": 8,
   "metadata": {},
   "outputs": [
    {
     "data": {
      "text/plain": [
       "[1, 447, 902, 877, 882]"
      ]
     },
     "execution_count": 8,
     "metadata": {},
     "output_type": "execute_result"
    }
   ],
   "source": [
    "paths[1][882]"
   ]
  },
  {
   "cell_type": "code",
   "execution_count": 9,
   "metadata": {},
   "outputs": [
    {
     "data": {
      "text/plain": [
       "{'weight': 49.0,\n",
       " 'departure_time': '08:21:00',\n",
       " 'arrival_time': '11:06:00',\n",
       " 'lon_lat': (6.17427169, 48.68978225)}"
      ]
     },
     "execution_count": 9,
     "metadata": {},
     "output_type": "execute_result"
    }
   ],
   "source": [
    "graph.edges[(1, 0)]"
   ]
  },
  {
   "cell_type": "code",
   "execution_count": 10,
   "metadata": {},
   "outputs": [],
   "source": [
    "# graph.edges[(0, 882)]"
   ]
  },
  {
   "cell_type": "code",
   "execution_count": 11,
   "metadata": {},
   "outputs": [],
   "source": [
    "stops_name_by_id = {v: k for k, v in stop_2_id.items()}"
   ]
  },
  {
   "cell_type": "code",
   "execution_count": 12,
   "metadata": {},
   "outputs": [
    {
     "name": "stdout",
     "output_type": "stream",
     "text": [
      "Nancy-Ville\n",
      "Paris-Est\n",
      "Les Laumes-Alésia\n"
     ]
    }
   ],
   "source": [
    "print(stops_name_by_id[1])\n",
    "print(stops_name_by_id[0])\n",
    "print(stops_name_by_id[882])"
   ]
  },
  {
   "cell_type": "code",
   "execution_count": 13,
   "metadata": {},
   "outputs": [],
   "source": [
    "stops_name_by_id_df = pd.DataFrame.from_dict(stops_name_by_id, orient='index', columns=['name'])"
   ]
  },
  {
   "cell_type": "code",
   "execution_count": 14,
   "metadata": {},
   "outputs": [],
   "source": [
    "with open('./data/_routing_stops_name_by_id.json', 'w') as outfile:\n",
    "    json.dump(stops_name_by_id, outfile, sort_keys=True)\n",
    "\n",
    "with open('./data/_routing_stops_id_by_name.json', 'w') as outfile:\n",
    "    json.dump(stop_2_id, outfile, sort_keys=True)"
   ]
  },
  {
   "cell_type": "code",
   "execution_count": 15,
   "metadata": {},
   "outputs": [
    {
     "data": {
      "text/plain": [
       "(140, 174)"
      ]
     },
     "execution_count": 15,
     "metadata": {},
     "output_type": "execute_result"
    }
   ],
   "source": [
    "with open('./data/_historic_cities.json') as infile:\n",
    "    HISTORIC_CITIES = json.load(infile)\n",
    "with open('./data/_art_history_cities.json') as infile:\n",
    "    ART_HISTORY_CITIES = json.load(infile)\n",
    "\n",
    "l = list(HISTORIC_CITIES.keys())\n",
    "l.extend([item for item in l for l in ART_HISTORY_CITIES.values()])\n",
    "l = set(l)\n",
    "# l - set(stops_name_by_id_df[stops_name_by_id_df.name.isin(l)].name.values)\n",
    "len(set(stops_name_by_id_df[stops_name_by_id_df.name.isin(l)].name.values)), len(l)"
   ]
  },
  {
   "cell_type": "code",
   "execution_count": 16,
   "metadata": {},
   "outputs": [
    {
     "data": {
      "text/html": [
       "<div>\n",
       "<style scoped>\n",
       "    .dataframe tbody tr th:only-of-type {\n",
       "        vertical-align: middle;\n",
       "    }\n",
       "\n",
       "    .dataframe tbody tr th {\n",
       "        vertical-align: top;\n",
       "    }\n",
       "\n",
       "    .dataframe thead th {\n",
       "        text-align: right;\n",
       "    }\n",
       "</style>\n",
       "<table border=\"1\" class=\"dataframe\">\n",
       "  <thead>\n",
       "    <tr style=\"text-align: right;\">\n",
       "      <th></th>\n",
       "      <th>name</th>\n",
       "    </tr>\n",
       "  </thead>\n",
       "  <tbody>\n",
       "    <tr>\n",
       "      <th>469</th>\n",
       "      <td>Villeneuve-d'Aveyron</td>\n",
       "    </tr>\n",
       "    <tr>\n",
       "      <th>1252</th>\n",
       "      <td>Villeneuve-Loubet-Plage</td>\n",
       "    </tr>\n",
       "    <tr>\n",
       "      <th>1339</th>\n",
       "      <td>Villeneuve-sur-Yonne</td>\n",
       "    </tr>\n",
       "    <tr>\n",
       "      <th>1343</th>\n",
       "      <td>Villeneuve-la-Guyard</td>\n",
       "    </tr>\n",
       "    <tr>\n",
       "      <th>2068</th>\n",
       "      <td>Villeneuve-la-Comtesse</td>\n",
       "    </tr>\n",
       "    <tr>\n",
       "      <th>2231</th>\n",
       "      <td>Villeneuve-sur-Allier</td>\n",
       "    </tr>\n",
       "  </tbody>\n",
       "</table>\n",
       "</div>"
      ],
      "text/plain": [
       "                         name\n",
       "469      Villeneuve-d'Aveyron\n",
       "1252  Villeneuve-Loubet-Plage\n",
       "1339     Villeneuve-sur-Yonne\n",
       "1343     Villeneuve-la-Guyard\n",
       "2068   Villeneuve-la-Comtesse\n",
       "2231    Villeneuve-sur-Allier"
      ]
     },
     "execution_count": 16,
     "metadata": {},
     "output_type": "execute_result"
    }
   ],
   "source": [
    "stops_name_by_id_df[stops_name_by_id_df.name.str.contains('Villeneuve')]"
   ]
  },
  {
   "cell_type": "code",
   "execution_count": 17,
   "metadata": {},
   "outputs": [],
   "source": [
    "DATA_DIR = './data/'\n",
    "STATIONS = pd.read_csv(DATA_DIR + '_stations.csv').dropna()\n",
    "with open(DATA_DIR + '_historic_cities.json') as infile:\n",
    "    HISTORIC_CITIES = json.load(infile)\n",
    "with open(DATA_DIR + '_art_history_cities.json') as infile:\n",
    "    ART_HISTORY_CITIES = json.load(infile)\n",
    "SPECIAL_CITIES = list(HISTORIC_CITIES.keys())\n",
    "SPECIAL_CITIES.extend([item for item in SPECIAL_CITIES for SPECIAL_CITIES in ART_HISTORY_CITIES.values()])\n",
    "with open(DATA_DIR + '_routing_stops_name_by_id.json') as infile:\n",
    "    STOPS_NAME_BY_ID = json.load(infile)\n",
    "SPECIAL_STOPS_DF = pd.DataFrame.from_dict(STOPS_NAME_BY_ID, orient='index', columns=['name'])\n",
    "SPECIAL_STOPS_DF = SPECIAL_STOPS_DF[SPECIAL_STOPS_DF.name.isin(SPECIAL_CITIES)]\n",
    "\n",
    "special_ids = [int(x) for x in SPECIAL_STOPS_DF.index.values]\n",
    "\n",
    "# Clean the paths by only keeping paths to important destinations.\n",
    "# This brings down the size of the file from ~300MB to ~15MB.\n",
    "for source_id in range(len(paths)):\n",
    "    to_remove = []\n",
    "    for dest_id in paths[source_id]:\n",
    "        if dest_id == source_id:\n",
    "            continue\n",
    "        if dest_id in special_ids:\n",
    "            continue\n",
    "        to_remove.append(dest_id)\n",
    "    for id_ in to_remove:\n",
    "        del paths[source_id][id_]"
   ]
  },
  {
   "cell_type": "code",
   "execution_count": 18,
   "metadata": {},
   "outputs": [],
   "source": [
    "with open('./data/_routing_paths.pkl', 'wb') as f:\n",
    "    pickle.dump(paths, f, pickle.HIGHEST_PROTOCOL)"
   ]
  },
  {
   "cell_type": "code",
   "execution_count": 19,
   "metadata": {},
   "outputs": [],
   "source": [
    "with open('./data/_routing_graph.pkl', 'wb') as f:\n",
    "    pickle.dump(graph, f, pickle.HIGHEST_PROTOCOL)"
   ]
  },
  {
   "cell_type": "code",
   "execution_count": null,
   "metadata": {},
   "outputs": [],
   "source": []
  }
 ],
 "metadata": {
  "kernelspec": {
   "display_name": "Python 3",
   "language": "python",
   "name": "python3"
  },
  "language_info": {
   "codemirror_mode": {
    "name": "ipython",
    "version": 3
   },
   "file_extension": ".py",
   "mimetype": "text/x-python",
   "name": "python",
   "nbconvert_exporter": "python",
   "pygments_lexer": "ipython3",
   "version": "3.7.1"
  }
 },
 "nbformat": 4,
 "nbformat_minor": 2
}

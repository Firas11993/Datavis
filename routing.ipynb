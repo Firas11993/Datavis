{
 "cells": [
  {
   "cell_type": "code",
   "execution_count": 1,
   "metadata": {
    "collapsed": false
   },
   "outputs": [],
   "source": [
    "import pandas as pd \n",
    "import networkx as nx\n",
    "import numpy as np\n",
    "from functools import reduce\n",
    "import datetime\n",
    "import tqdm\n",
    "import ast\n",
    "import sys\n",
    "import time"
   ]
  },
  {
   "cell_type": "code",
   "execution_count": 2,
   "metadata": {
    "collapsed": false
   },
   "outputs": [],
   "source": [
    "timetable_intercity = pd.read_csv(\"./data/export-intercites-gtfs-last/timetable_intercity.csv\")\n",
    "timetable_ter = pd.read_csv(\"./data/ter/timetable_ter.csv\")\n"
   ]
  },
  {
   "cell_type": "code",
   "execution_count": 3,
   "metadata": {
    "collapsed": false
   },
   "outputs": [
    {
     "name": "stderr",
     "output_type": "stream",
     "text": [
      "/Users/firasbenothman/anaconda/lib/python3.6/site-packages/ipykernel/__main__.py:1: FutureWarning: Sorting because non-concatenation axis is not aligned. A future version\n",
      "of pandas will change to not sort by default.\n",
      "\n",
      "To accept the future behavior, pass 'sort=False'.\n",
      "\n",
      "To retain the current behavior and silence the warning, pass 'sort=True'.\n",
      "\n",
      "  if __name__ == '__main__':\n"
     ]
    }
   ],
   "source": [
    "timetable = pd.concat([timetable_intercity , timetable_ter])"
   ]
  },
  {
   "cell_type": "code",
   "execution_count": 4,
   "metadata": {
    "collapsed": false
   },
   "outputs": [],
   "source": [
    "timetable[\"after\"] = timetable[\"arrival_time\"].apply(lambda x : datetime.datetime.strptime(ast.literal_eval(x)[0],\"%H:%M:%S\"))\n",
    "timetable[\"before\"] = timetable[\"arrival_time\"].apply(lambda x : datetime.datetime.strptime(ast.literal_eval(x)[-1],\"%H:%M:%S\"))\n"
   ]
  },
  {
   "cell_type": "code",
   "execution_count": 237,
   "metadata": {
    "collapsed": false
   },
   "outputs": [],
   "source": [
    "def build_graph_within_timeframe(start_time,timeframe, timetable) : \n",
    "    \n",
    "    stop_2_id = {}\n",
    "    \n",
    "    start_time = datetime.datetime.strptime(start_time, \"%H:%M:%S\")\n",
    "    \n",
    "    timetable = timetable[timetable[\"before\"] >= start_time]\n",
    "    timetable = timetable[timetable[\"after\" ] <= start_time + datetime.timedelta(0,timeframe*60)]\n",
    "    G = nx.Graph()\n",
    "    \n",
    "    \n",
    "    frame_indices = []\n",
    "    start = time.time()\n",
    "    for i in timetable.index : \n",
    "        try :           \n",
    "            arrival_times = ast.literal_eval(timetable[\"arrival_time\"][i])\n",
    "            times = [datetime.datetime.strptime(arrival_times[j], \"%H:%M:%S\") for j in range(len(arrival_times))]\n",
    "            filtered_times = [time_ for time_ in times if (time_ - start_time).seconds <= (timeframe * 60)]\n",
    "\n",
    "            indices = np.array([times.index(time) for time in filtered_times])\n",
    "\n",
    "            if len(indices) == 0 : continue\n",
    "\n",
    "            frame_indices.append(i)\n",
    "        \n",
    "            departure_times = list(np.array(ast.literal_eval(timetable[\"departure_time\"][i]))[indices])\n",
    "            arrival_times = list(np.array(ast.literal_eval(timetable[\"arrival_time\"][i]))[indices])\n",
    "           \n",
    "            stop_names = list(np.array(ast.literal_eval(timetable[\"stop_name\"][i]))[indices])\n",
    "        except ValueError : \n",
    "            #print(timetable[\"stop_name\"][i])\n",
    "            continue\n",
    "            \n",
    "        longitudes = list(np.array(ast.literal_eval(timetable[\"stop_lon\"][i]))[indices])\n",
    "        latitudes = list(np.array(ast.literal_eval(timetable[\"stop_lat\"][i]))[indices])\n",
    "        durations = [0.] + ast.literal_eval(timetable[\"durations\"][i])\n",
    "        \n",
    "        durations = list(np.array(durations)[indices])\n",
    "        for k in range(len(stop_names)-1) :  \n",
    "            curr_stop = stop_names[k]\n",
    "            next_stop = stop_names[k+1]\n",
    "            \n",
    "            if curr_stop not in stop_2_id.keys() : \n",
    "                stop_2_id[curr_stop] = len(stop_2_id.keys())\n",
    "            if next_stop not in stop_2_id.keys(): \n",
    "                stop_2_id[next_stop] = len(stop_2_id.keys())\n",
    "            \n",
    "            \n",
    "            G.add_edge(stop_2_id[curr_stop], stop_2_id[next_stop] , weight = durations[k+1],\n",
    "                       departure_time = departure_times[k+1], arrival_time= arrival_times[k+1], \n",
    "                      lon_lat =(longitudes[k+1],latitudes[k+1]))\n",
    "\n",
    "    paths = nx.shortest_path(G)\n",
    "    print(\"Execution time {:.2f} seconds\".format(time.time() - start))\n",
    "    return G, paths, stop_2_id\n",
    "    "
   ]
  },
  {
   "cell_type": "code",
   "execution_count": 238,
   "metadata": {
    "collapsed": false,
    "scrolled": false
   },
   "outputs": [
    {
     "name": "stdout",
     "output_type": "stream",
     "text": [
      "Execution time 17.60 seconds\n"
     ]
    }
   ],
   "source": [
    "graph, paths , stop_2_id = build_graph_within_timeframe(\"08:33:00\", 60, timetable)"
   ]
  },
  {
   "cell_type": "code",
   "execution_count": 240,
   "metadata": {
    "collapsed": false
   },
   "outputs": [
    {
     "data": {
      "text/plain": [
       "{'arrival_time': '09:17:00',\n",
       " 'departure_time': '09:11:00',\n",
       " 'lon_lat': (2.30809809, 49.89053246),\n",
       " 'weight': 7.0}"
      ]
     },
     "execution_count": 240,
     "metadata": {},
     "output_type": "execute_result"
    }
   ],
   "source": [
    "graph.edges[(0,1)]"
   ]
  }
 ],
 "metadata": {
  "kernelspec": {
   "display_name": "Python 3",
   "language": "python",
   "name": "python3"
  },
  "language_info": {
   "codemirror_mode": {
    "name": "ipython",
    "version": 3
   },
   "file_extension": ".py",
   "mimetype": "text/x-python",
   "name": "python",
   "nbconvert_exporter": "python",
   "pygments_lexer": "ipython3",
   "version": "3.6.0"
  }
 },
 "nbformat": 4,
 "nbformat_minor": 2
}

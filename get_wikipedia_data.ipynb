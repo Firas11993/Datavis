{
 "cells": [
  {
   "cell_type": "code",
   "execution_count": 1,
   "metadata": {
    "collapsed": true
   },
   "outputs": [],
   "source": [
    "import pandas as pd\n",
    "from bs4 import BeautifulSoup\n",
    "import urllib.request\n",
    "import re\n",
    "import json\n",
    "\n",
    "\n",
    "DATA_DIR = 'data/'\n",
    "WIKIPEDIA_BASE_URL = 'https://fr.wikipedia.org'"
   ]
  },
  {
   "cell_type": "code",
   "execution_count": 2,
   "metadata": {
    "collapsed": true
   },
   "outputs": [],
   "source": [
    "def parse_url(url):\n",
    "    page = urllib.request.urlopen(url).read().decode('utf-8')\n",
    "    return BeautifulSoup(page, 'html.parser')\n",
    "\n",
    "def get_table_from_article(url_or_soup, table_index, col_indices, col_names, col_links_indices, col_links_names,\n",
    "                           col_coords_indices=None, col_coords_names=None):\n",
    "    soup = parse_url(url_or_soup) if isinstance(url_or_soup, str) else url_or_soup\n",
    "    table = soup.find_all('table', class_='sortable')[table_index]\n",
    "    col_coords_indices = col_coords_indices if col_coords_indices else []\n",
    "    col_coords_names = col_coords_names if col_coords_names else []\n",
    "    data = []\n",
    "    for tr in table.find_all('tr'):\n",
    "        tds = tr.find_all('td')\n",
    "        if not tds:\n",
    "            continue\n",
    "        cols = [td.get_text(',', strip=True) for td in tds]\n",
    "        cols = [cols[i] for i in col_indices]\n",
    "        links = []\n",
    "        for index in col_links_indices:\n",
    "            link = tds[index].find('a', href=True)\n",
    "            if link:\n",
    "                link = link['href']\n",
    "                if link.endswith('&action=edit&redlink=1'):\n",
    "                    link = None\n",
    "                elif link.startswith('/'):\n",
    "                    link = WIKIPEDIA_BASE_URL + link\n",
    "            else:\n",
    "                link = None\n",
    "            links.append(link)\n",
    "        coords = []\n",
    "        for index in col_coords_indices:\n",
    "            coord = tds[index].find('a')\n",
    "            if coord and coord.has_attr('data-lat'):\n",
    "                coord = (float(coord['data-lat']), float(coord['data-lon']))\n",
    "            else:\n",
    "                coord = None\n",
    "            coords.append(coord)\n",
    "        data.append((*cols, *links, *coords))\n",
    "    df = pd.DataFrame(data, columns=[*col_names, *col_links_names, *col_coords_names])\n",
    "    return df\n",
    "\n",
    "def extract_monuments_list(article_or_url, col_indices=None, col_coords_indices=None):\n",
    "    col_indices = [0, 4, 5] if not col_indices else col_indices\n",
    "    col_coords_indices = [2] if not col_coords_indices else col_coords_indices\n",
    "    df2 = get_table_from_article(article_or_url, table_index=0, col_indices=col_indices,\n",
    "                                 col_names=['Name', 'Status', 'Date'],\n",
    "                                 col_links_indices=[0], col_links_names=['Link'],\n",
    "                                 col_coords_indices=[2], col_coords_names=['Coords'])\n",
    "    return df2[(df2.Status.str.contains('Classé')) & (df2.Link)]"
   ]
  },
  {
   "cell_type": "code",
   "execution_count": 3,
   "metadata": {
    "collapsed": false
   },
   "outputs": [
    {
     "data": {
      "text/html": [
       "<div>\n",
       "<style scoped>\n",
       "    .dataframe tbody tr th:only-of-type {\n",
       "        vertical-align: middle;\n",
       "    }\n",
       "\n",
       "    .dataframe tbody tr th {\n",
       "        vertical-align: top;\n",
       "    }\n",
       "\n",
       "    .dataframe thead th {\n",
       "        text-align: right;\n",
       "    }\n",
       "</style>\n",
       "<table border=\"1\" class=\"dataframe\">\n",
       "  <thead>\n",
       "    <tr style=\"text-align: right;\">\n",
       "      <th></th>\n",
       "      <th>Commune</th>\n",
       "      <th>Number of monuments</th>\n",
       "      <th>Link</th>\n",
       "    </tr>\n",
       "  </thead>\n",
       "  <tbody>\n",
       "    <tr>\n",
       "      <th>0</th>\n",
       "      <td>Paris</td>\n",
       "      <td>1823</td>\n",
       "      <td>https://fr.wikipedia.org/wiki/Liste_des_monume...</td>\n",
       "    </tr>\n",
       "    <tr>\n",
       "      <th>1</th>\n",
       "      <td>Bordeaux</td>\n",
       "      <td>365</td>\n",
       "      <td>https://fr.wikipedia.org/wiki/Liste_des_monume...</td>\n",
       "    </tr>\n",
       "    <tr>\n",
       "      <th>2</th>\n",
       "      <td>La Rochelle</td>\n",
       "      <td>292</td>\n",
       "      <td>https://fr.wikipedia.org/wiki/Monuments_de_La_...</td>\n",
       "    </tr>\n",
       "  </tbody>\n",
       "</table>\n",
       "</div>"
      ],
      "text/plain": [
       "       Commune Number of monuments  \\\n",
       "0        Paris                1823   \n",
       "1     Bordeaux                 365   \n",
       "2  La Rochelle                 292   \n",
       "\n",
       "                                                Link  \n",
       "0  https://fr.wikipedia.org/wiki/Liste_des_monume...  \n",
       "1  https://fr.wikipedia.org/wiki/Liste_des_monume...  \n",
       "2  https://fr.wikipedia.org/wiki/Monuments_de_La_...  "
      ]
     },
     "execution_count": 3,
     "metadata": {},
     "output_type": "execute_result"
    }
   ],
   "source": [
    "url = 'https://fr.wikipedia.org/wiki/Liste_des_monuments_historiques_par_commune_fran%C3%A7aise'\n",
    "df = get_table_from_article(url, table_index=1, col_indices=[1, 4], col_names=['Commune', 'Number of monuments'],\n",
    "                            col_links_indices=[1], col_links_names=['Link'])\n",
    "df.head(3)"
   ]
  },
  {
   "cell_type": "code",
   "execution_count": 4,
   "metadata": {
    "collapsed": false
   },
   "outputs": [
    {
     "name": "stdout",
     "output_type": "stream",
     "text": [
      "Skipping Paris (<https://fr.wikipedia.org/wiki/Liste_des_monuments_historiques_de_Paris>)\n",
      "Skipping La Rochelle (<https://fr.wikipedia.org/wiki/Monuments_de_La_Rochelle>)\n"
     ]
    }
   ],
   "source": [
    "monuments_per_commune = {}\n",
    "for _, row in df.iterrows():\n",
    "    article = parse_url(row.Link)\n",
    "    keywords = ['Liste', 'Monuments historiques', 'Immobiliers', 'Immobilier', 'Monuments actuels',\n",
    "                'Monuments immobiliers', 'Liste exhaustive', 'Caen']\n",
    "    found_keywords = [article.find('span', class_='mw-headline', text=keyword) for keyword in keywords]\n",
    "    if sum(map(bool, found_keywords)):\n",
    "        monuments_per_commune[row.Commune] = extract_monuments_list(article)\n",
    "    else:\n",
    "        print('Skipping {} (<{}>)'.format(row.Commune, row.Link))"
   ]
  },
  {
   "cell_type": "code",
   "execution_count": 5,
   "metadata": {
    "collapsed": false
   },
   "outputs": [
    {
     "data": {
      "text/html": [
       "<div>\n",
       "<style scoped>\n",
       "    .dataframe tbody tr th:only-of-type {\n",
       "        vertical-align: middle;\n",
       "    }\n",
       "\n",
       "    .dataframe tbody tr th {\n",
       "        vertical-align: top;\n",
       "    }\n",
       "\n",
       "    .dataframe thead th {\n",
       "        text-align: right;\n",
       "    }\n",
       "</style>\n",
       "<table border=\"1\" class=\"dataframe\">\n",
       "  <thead>\n",
       "    <tr style=\"text-align: right;\">\n",
       "      <th></th>\n",
       "      <th>Name</th>\n",
       "      <th>Status</th>\n",
       "      <th>Date</th>\n",
       "      <th>Link</th>\n",
       "      <th>Coords</th>\n",
       "    </tr>\n",
       "  </thead>\n",
       "  <tbody>\n",
       "    <tr>\n",
       "      <th>0</th>\n",
       "      <td>Abbatiale Sainte-Croix</td>\n",
       "      <td>Classé</td>\n",
       "      <td>1840</td>\n",
       "      <td>https://fr.wikipedia.org/wiki/Abbatiale_Sainte...</td>\n",
       "      <td>(44.831051, -0.560909)</td>\n",
       "    </tr>\n",
       "    <tr>\n",
       "      <th>1</th>\n",
       "      <td>Ancien Hôtel de ville de Bordeaux</td>\n",
       "      <td>Classé</td>\n",
       "      <td>1886</td>\n",
       "      <td>https://fr.wikipedia.org/wiki/Grosse_cloche_de...</td>\n",
       "      <td>(44.835436, -0.571333)</td>\n",
       "    </tr>\n",
       "    <tr>\n",
       "      <th>2</th>\n",
       "      <td>Basilique Saint-Michel</td>\n",
       "      <td>Classé</td>\n",
       "      <td>1846</td>\n",
       "      <td>https://fr.wikipedia.org/wiki/Basilique_Saint-...</td>\n",
       "      <td>(44.834438, -0.56549)</td>\n",
       "    </tr>\n",
       "  </tbody>\n",
       "</table>\n",
       "</div>"
      ],
      "text/plain": [
       "                                Name  Status  Date  \\\n",
       "0             Abbatiale Sainte-Croix  Classé  1840   \n",
       "1  Ancien Hôtel de ville de Bordeaux  Classé  1886   \n",
       "2             Basilique Saint-Michel  Classé  1846   \n",
       "\n",
       "                                                Link                  Coords  \n",
       "0  https://fr.wikipedia.org/wiki/Abbatiale_Sainte...  (44.831051, -0.560909)  \n",
       "1  https://fr.wikipedia.org/wiki/Grosse_cloche_de...  (44.835436, -0.571333)  \n",
       "2  https://fr.wikipedia.org/wiki/Basilique_Saint-...   (44.834438, -0.56549)  "
      ]
     },
     "execution_count": 5,
     "metadata": {},
     "output_type": "execute_result"
    }
   ],
   "source": [
    "monuments_per_commune['Bordeaux'].head(3)"
   ]
  },
  {
   "cell_type": "code",
   "execution_count": 6,
   "metadata": {
    "collapsed": true
   },
   "outputs": [],
   "source": [
    "urls = ['https://fr.wikipedia.org/wiki/Liste_des_monuments_historiques_du_1er_arrondissement_de_Paris',\n",
    "        'https://fr.wikipedia.org/wiki/Liste_des_monuments_historiques_du_2e_arrondissement_de_Paris',\n",
    "        'https://fr.wikipedia.org/wiki/Liste_des_monuments_historiques_du_3e_arrondissement_de_Paris',\n",
    "        'https://fr.wikipedia.org/wiki/Liste_des_monuments_historiques_du_4e_arrondissement_de_Paris',\n",
    "        'https://fr.wikipedia.org/wiki/Liste_des_monuments_historiques_du_5e_arrondissement_de_Paris']\n",
    "paris_monuments = []\n",
    "for i, url in enumerate(urls):\n",
    "    paris_monuments.append(extract_monuments_list(url))\n",
    "monuments_per_commune['Paris'] = pd.concat(paris_monuments)"
   ]
  },
  {
   "cell_type": "code",
   "execution_count": 7,
   "metadata": {
    "collapsed": false
   },
   "outputs": [
    {
     "data": {
      "text/html": [
       "<div>\n",
       "<style scoped>\n",
       "    .dataframe tbody tr th:only-of-type {\n",
       "        vertical-align: middle;\n",
       "    }\n",
       "\n",
       "    .dataframe tbody tr th {\n",
       "        vertical-align: top;\n",
       "    }\n",
       "\n",
       "    .dataframe thead th {\n",
       "        text-align: right;\n",
       "    }\n",
       "</style>\n",
       "<table border=\"1\" class=\"dataframe\">\n",
       "  <thead>\n",
       "    <tr style=\"text-align: right;\">\n",
       "      <th></th>\n",
       "      <th>Name</th>\n",
       "      <th>Status</th>\n",
       "      <th>Date</th>\n",
       "      <th>Link</th>\n",
       "      <th>Coords</th>\n",
       "    </tr>\n",
       "  </thead>\n",
       "  <tbody>\n",
       "    <tr>\n",
       "      <th>0</th>\n",
       "      <td>Ancien appartement de,Coco Chanel</td>\n",
       "      <td>Classé</td>\n",
       "      <td>2013,[,1,]</td>\n",
       "      <td>https://fr.wikipedia.org/wiki/Coco_Chanel</td>\n",
       "      <td>(48.8682, 2.3266)</td>\n",
       "    </tr>\n",
       "    <tr>\n",
       "      <th>2</th>\n",
       "      <td>Bourse de commerce</td>\n",
       "      <td>Classé</td>\n",
       "      <td>1862</td>\n",
       "      <td>https://fr.wikipedia.org/wiki/Bourse_de_commer...</td>\n",
       "      <td>(48.862833, 2.342778)</td>\n",
       "    </tr>\n",
       "    <tr>\n",
       "      <th>8</th>\n",
       "      <td>Colonne Médicis</td>\n",
       "      <td>Classé</td>\n",
       "      <td>1862</td>\n",
       "      <td>https://fr.wikipedia.org/wiki/Colonne_M%C3%A9d...</td>\n",
       "      <td>(48.862528, 2.343)</td>\n",
       "    </tr>\n",
       "  </tbody>\n",
       "</table>\n",
       "</div>"
      ],
      "text/plain": [
       "                                Name  Status        Date  \\\n",
       "0  Ancien appartement de,Coco Chanel  Classé  2013,[,1,]   \n",
       "2                 Bourse de commerce  Classé        1862   \n",
       "8                    Colonne Médicis  Classé        1862   \n",
       "\n",
       "                                                Link                 Coords  \n",
       "0          https://fr.wikipedia.org/wiki/Coco_Chanel      (48.8682, 2.3266)  \n",
       "2  https://fr.wikipedia.org/wiki/Bourse_de_commer...  (48.862833, 2.342778)  \n",
       "8  https://fr.wikipedia.org/wiki/Colonne_M%C3%A9d...     (48.862528, 2.343)  "
      ]
     },
     "execution_count": 7,
     "metadata": {},
     "output_type": "execute_result"
    }
   ],
   "source": [
    "monuments_per_commune['Paris'].head(3)"
   ]
  },
  {
   "cell_type": "code",
   "execution_count": 8,
   "metadata": {
    "collapsed": true
   },
   "outputs": [],
   "source": [
    "url = 'https://fr.wikipedia.org/wiki/Liste_des_monuments_historiques_de_La_Rochelle'\n",
    "monuments_per_commune['La Rochelle'] = extract_monuments_list(url)"
   ]
  },
  {
   "cell_type": "code",
   "execution_count": 9,
   "metadata": {
    "collapsed": true
   },
   "outputs": [],
   "source": [
    "url = 'https://fr.wikipedia.org/wiki/Liste_des_monuments_historiques_de_Lyon'\n",
    "monuments_per_commune['Lyon'] = extract_monuments_list(url, col_indices=[0, 5, 6], col_coords_indices=[3])"
   ]
  },
  {
   "cell_type": "code",
   "execution_count": 10,
   "metadata": {
    "collapsed": false
   },
   "outputs": [
    {
     "data": {
      "text/html": [
       "<div>\n",
       "<style scoped>\n",
       "    .dataframe tbody tr th:only-of-type {\n",
       "        vertical-align: middle;\n",
       "    }\n",
       "\n",
       "    .dataframe tbody tr th {\n",
       "        vertical-align: top;\n",
       "    }\n",
       "\n",
       "    .dataframe thead th {\n",
       "        text-align: right;\n",
       "    }\n",
       "</style>\n",
       "<table border=\"1\" class=\"dataframe\">\n",
       "  <thead>\n",
       "    <tr style=\"text-align: right;\">\n",
       "      <th></th>\n",
       "      <th>Name</th>\n",
       "      <th>Status</th>\n",
       "      <th>Date</th>\n",
       "      <th>Link</th>\n",
       "      <th>Coords</th>\n",
       "    </tr>\n",
       "  </thead>\n",
       "  <tbody>\n",
       "    <tr>\n",
       "      <th>0</th>\n",
       "      <td>Carrière Carpentier</td>\n",
       "      <td>Classé</td>\n",
       "      <td>1983</td>\n",
       "      <td>https://fr.wikipedia.org/wiki/Carri%C3%A8re_Ca...</td>\n",
       "      <td>(50.106164, 1.848031)</td>\n",
       "    </tr>\n",
       "    <tr>\n",
       "      <th>1</th>\n",
       "      <td>Carrière de Menchecourt</td>\n",
       "      <td>Classé</td>\n",
       "      <td>1983</td>\n",
       "      <td>https://fr.wikipedia.org/wiki/Carri%C3%A8re_de...</td>\n",
       "      <td>(50.118391, 1.823725)</td>\n",
       "    </tr>\n",
       "    <tr>\n",
       "      <th>2</th>\n",
       "      <td>Église Notre-Dame-de-la-Chapelle</td>\n",
       "      <td>Classé</td>\n",
       "      <td>1910</td>\n",
       "      <td>https://fr.wikipedia.org/wiki/%C3%89glise_Notr...</td>\n",
       "      <td>(50.117192, 1.831911)</td>\n",
       "    </tr>\n",
       "    <tr>\n",
       "      <th>3</th>\n",
       "      <td>Église Saint-Sépulcre</td>\n",
       "      <td>Classé</td>\n",
       "      <td>1907</td>\n",
       "      <td>https://fr.wikipedia.org/wiki/%C3%89glise_Sain...</td>\n",
       "      <td>(50.10914, 1.83728)</td>\n",
       "    </tr>\n",
       "    <tr>\n",
       "      <th>4</th>\n",
       "      <td>Église Saint-Vulfran</td>\n",
       "      <td>Classé</td>\n",
       "      <td>1840</td>\n",
       "      <td>https://fr.wikipedia.org/wiki/%C3%89glise_Sain...</td>\n",
       "      <td>(50.10472, 1.83194)</td>\n",
       "    </tr>\n",
       "    <tr>\n",
       "      <th>5</th>\n",
       "      <td>Manufacture des Rames</td>\n",
       "      <td>Inscrit,Classé</td>\n",
       "      <td>1984,1986</td>\n",
       "      <td>https://fr.wikipedia.org/wiki/Manufacture_des_...</td>\n",
       "      <td>(50.110166, 1.822223)</td>\n",
       "    </tr>\n",
       "  </tbody>\n",
       "</table>\n",
       "</div>"
      ],
      "text/plain": [
       "                               Name          Status       Date  \\\n",
       "0               Carrière Carpentier          Classé       1983   \n",
       "1           Carrière de Menchecourt          Classé       1983   \n",
       "2  Église Notre-Dame-de-la-Chapelle          Classé       1910   \n",
       "3             Église Saint-Sépulcre          Classé       1907   \n",
       "4              Église Saint-Vulfran          Classé       1840   \n",
       "5             Manufacture des Rames  Inscrit,Classé  1984,1986   \n",
       "\n",
       "                                                Link                 Coords  \n",
       "0  https://fr.wikipedia.org/wiki/Carri%C3%A8re_Ca...  (50.106164, 1.848031)  \n",
       "1  https://fr.wikipedia.org/wiki/Carri%C3%A8re_de...  (50.118391, 1.823725)  \n",
       "2  https://fr.wikipedia.org/wiki/%C3%89glise_Notr...  (50.117192, 1.831911)  \n",
       "3  https://fr.wikipedia.org/wiki/%C3%89glise_Sain...    (50.10914, 1.83728)  \n",
       "4  https://fr.wikipedia.org/wiki/%C3%89glise_Sain...    (50.10472, 1.83194)  \n",
       "5  https://fr.wikipedia.org/wiki/Manufacture_des_...  (50.110166, 1.822223)  "
      ]
     },
     "execution_count": 10,
     "metadata": {},
     "output_type": "execute_result"
    }
   ],
   "source": [
    "monuments = pd.concat({k: v.reset_index(drop=True) for k, v in monuments_per_commune.items()}, sort=False)\n",
    "monuments.loc['Abbeville']"
   ]
  },
  {
   "cell_type": "code",
   "execution_count": 23,
   "metadata": {
    "collapsed": false
   },
   "outputs": [
    {
     "data": {
      "text/plain": [
       "'https://fr.wikipedia.org/wiki/Manufacture_des_Rames'"
      ]
     },
     "execution_count": 23,
     "metadata": {},
     "output_type": "execute_result"
    }
   ],
   "source": [
    "monuments[\"Link\"][5]"
   ]
  },
  {
   "cell_type": "code",
   "execution_count": 11,
   "metadata": {
    "collapsed": true
   },
   "outputs": [],
   "source": [
    "monuments.to_csv(DATA_DIR + '_monuments.csv')"
   ]
  },
  {
   "cell_type": "code",
   "execution_count": 12,
   "metadata": {
    "collapsed": false
   },
   "outputs": [
    {
     "name": "stdout",
     "output_type": "stream",
     "text": [
      "62\n",
      "26\n"
     ]
    },
    {
     "data": {
      "text/plain": [
       "{'Auvillar',\n",
       " 'Billom',\n",
       " 'Carnac',\n",
       " 'Cayenne',\n",
       " 'Collonges-la-Rouge',\n",
       " 'Cordes-sur-Ciel',\n",
       " 'Crémieu',\n",
       " 'Fontvieille',\n",
       " 'Fort-de-France',\n",
       " 'Kaysersberg',\n",
       " 'Le Faou',\n",
       " 'Le Mont-St-Michel',\n",
       " 'Les Baux-de-Provence',\n",
       " 'Locronan',\n",
       " 'Lyon',\n",
       " 'Marseille',\n",
       " 'Mirepoix',\n",
       " 'Monpazier',\n",
       " 'Paris',\n",
       " 'Pérouges',\n",
       " 'Richelieu',\n",
       " 'Riquewihr',\n",
       " 'St-Pierre',\n",
       " 'Tréguier',\n",
       " 'Villefranche-de-Conflent',\n",
       " \"Île-d'Aix\"}"
      ]
     },
     "execution_count": 12,
     "metadata": {},
     "output_type": "execute_result"
    }
   ],
   "source": [
    "df3 = pd.read_csv(DATA_DIR + '_stations.csv')\n",
    "communes = [v.replace('Saint-', 'St-') for v in monuments.index.levels[0].values]\n",
    "unknowns1 = set(communes) - set(df3[df3.Name.isin(communes)].Name)\n",
    "print(len(unknowns1))\n",
    "unknowns = unknowns1 - set(df3[df3.Commune.isin(communes)].Commune)\n",
    "print(len(unknowns))\n",
    "unknowns"
   ]
  },
  {
   "cell_type": "code",
   "execution_count": 13,
   "metadata": {
    "collapsed": false
   },
   "outputs": [
    {
     "name": "stdout",
     "output_type": "stream",
     "text": [
      "Ignoring St-Paul (outre-mer)\n",
      "Ignoring St-Pierre (outre-mer)\n",
      "Ignoring Cayenne (outre-mer)\n",
      "Ignoring Fort-de-France (outre-mer)\n"
     ]
    }
   ],
   "source": [
    "monuments_per_commune['Crémieu'] = pd.DataFrame.from_dict([{'Name': '', 'Status': '', 'Date': '', 'Link': ':-('}])\n",
    "manual_aliases = {'Auvillar': 'Valence-d\\'Agen',\n",
    "                  'Billom': 'Clermont-Ferrand',\n",
    "                  'Carnac': 'Auray ',\n",
    "                  'Collonges-la-Rouge': 'Brive-la-Gaillarde',\n",
    "                  'Cordes-sur-Ciel': 'Cordes-Vindrac',\n",
    "                  'Crémieu': 'Lyon-St-Exupéry-TGV',\n",
    "                  'Fontvieille': 'Arles',\n",
    "                  'Kaysersberg': 'Colmar',\n",
    "                  'Le Faou': 'Brest',\n",
    "                  'Le Mont-St-Michel': 'Pontorson-Mont-St-Michel',\n",
    "                  'Les Baux-de-Provence': 'Tarascon',\n",
    "                  'Locronan': 'Quimper',\n",
    "                  'Lyon': 'Lyon-Part-Dieu',\n",
    "                  'Marseille': 'Marseille-St-Charles',\n",
    "                  'Mirepoix': 'Pamiers',\n",
    "                  'Monpazier': 'Lalinde',\n",
    "                  'Paris': 'Paris-Nord',\n",
    "                  'Pérouges': 'Meximieux-Pérouges',\n",
    "                  'Richelieu': 'Chinon',\n",
    "                  'Riquewihr': 'Colmar',\n",
    "                  'Tréguier': 'Paimpol',\n",
    "                  'Villefranche-de-Conflent': 'Perpignan',\n",
    "                  'Île-d\\'Aix': 'La Rochelle-Ville',\n",
    "                  'Lille': 'Lille-Europe',\n",
    "                  'Bordeaux': 'Bordeaux-St-Jean',\n",
    "                  'Auxerre': 'Auxerre-St-Gervais',\n",
    "                  'Rouen': 'Rouen-Rive-Droite',\n",
    "                  'Besançon': 'Besançon-Viotte',\n",
    "                  'Avignon': 'Avignon-Centre',\n",
    "                  'Angers': 'Angers-St-Laud',\n",
    "                  'Chambéry': 'Chambéry-Challes-les-Eaux',\n",
    "                  'Saumur': 'Saumur-Rive-Droite',\n",
    "                  'St-Flour': 'St-Flour-Chaudes-Aigues',\n",
    "                  'Mâcon': 'Mâcon-Ville',\n",
    "                  'Nancy': 'Nancy-Ville',\n",
    "                  'Toulouse': 'Toulouse-Matabiau',\n",
    "                  'Pernes-les-Fontaines': 'Pernes',\n",
    "                  'Montauban': 'Montauban-Ville-Bourbon',\n",
    "                  'Dole': 'Dole-Ville',\n",
    "                  'Limoges': 'Limoges-Bénédictins',\n",
    "                  'Montluçon': 'Montluçon-Ville',\n",
    "                  'Le Touquet-Paris-Plage': 'Le Touquet-Aéroport',\n",
    "                  'Montpellier': 'Montpellier-St-Roch',\n",
    "                  'Metz': 'Metz-Ville',\n",
    "                  'St-Étienne': 'St-Étienne-Châteaucreux',\n",
    "                  'Riom': 'Riom-Châtel-Guyon',\n",
    "                  'Nice': 'Nice-Ville',\n",
    "                  'Moulins': 'Moulins-sur-Allier',\n",
    "                  'St-Germain-en-Laye': 'St-Germain-Grande-Ceinture',\n",
    "                  'Fontainebleau': 'Fontainebleau-Avon',\n",
    "                  'Rocamadour': 'Rocamadour-Padirac',\n",
    "                  'Strasbourg': 'Strasbourg-Ville',\n",
    "                  'Sarlat-la-Canéda': 'Sarlat',\n",
    "                  'La Rochelle': 'La Rochelle-Ville',\n",
    "                  'Dijon': 'Dijon-Ville',\n",
    "                  'Les Eyzies-de-Tayac-Sireuil': 'Les Eyzies',\n",
    "                  'Versailles': 'Versailles-Chantiers',\n",
    "                  'Mulhouse': 'Mulhouse-Ville'}\n",
    "# Cayenne, Fort-de-France, St-Pierre -> outre-mer, ignore\n",
    "ignore = ['St-Paul'] # outre-mer (but also a commune in mainland France)\n",
    "aliases_historic_cities = {}\n",
    "for commune in set(communes):\n",
    "    if commune in ignore:\n",
    "        print('Ignoring {} (outre-mer)'.format(commune))\n",
    "        continue\n",
    "    elif commune in manual_aliases:\n",
    "        nearest = manual_aliases[commune]\n",
    "    elif commune in df3.Name.values:\n",
    "        nearest = commune\n",
    "    else:\n",
    "        print('Ignoring {} (outre-mer)'.format(commune))\n",
    "        continue\n",
    "    aliases_historic_cities[nearest] = ([*aliases_historic_cities[nearest], commune]\n",
    "                                        if nearest in aliases_historic_cities else [commune])"
   ]
  },
  {
   "cell_type": "code",
   "execution_count": 14,
   "metadata": {
    "collapsed": false
   },
   "outputs": [
    {
     "data": {
      "text/plain": [
       "{'Abbeville': ['Abbeville'],\n",
       " 'Agen': ['Agen'],\n",
       " 'Aire-sur-la-Lys': ['Aire-sur-la-Lys'],\n",
       " 'Aix-en-Provence': ['Aix-en-Provence'],\n",
       " 'Ajaccio': ['Ajaccio'],\n",
       " 'Albi': ['Albi'],\n",
       " 'Alençon': ['Alençon'],\n",
       " 'Alet-les-Bains': ['Alet-les-Bains'],\n",
       " 'Amboise': ['Amboise'],\n",
       " 'Amiens': ['Amiens'],\n",
       " 'Angers-St-Laud': ['Angers'],\n",
       " 'Angoulême': ['Angoulême'],\n",
       " 'Annecy': ['Annecy'],\n",
       " 'Arles': ['Arles', 'Fontvieille'],\n",
       " 'Arras': ['Arras'],\n",
       " 'Auch': ['Auch'],\n",
       " 'Auray': ['Auray'],\n",
       " 'Auray ': ['Carnac'],\n",
       " 'Aurillac': ['Aurillac'],\n",
       " 'Autun': ['Autun'],\n",
       " 'Auxerre-St-Gervais': ['Auxerre'],\n",
       " 'Avignon-Centre': ['Avignon'],\n",
       " 'Bar-le-Duc': ['Bar-le-Duc'],\n",
       " 'Bayeux': ['Bayeux'],\n",
       " 'Bayonne': ['Bayonne'],\n",
       " 'Beaucaire': ['Beaucaire'],\n",
       " 'Beaune': ['Beaune'],\n",
       " 'Beauvais': ['Beauvais'],\n",
       " 'Besançon-Viotte': ['Besançon'],\n",
       " 'Blois': ['Blois'],\n",
       " 'Bordeaux-St-Jean': ['Bordeaux'],\n",
       " 'Bourg-St-Andéol': ['Bourg-St-Andéol'],\n",
       " 'Bourg-en-Bresse': ['Bourg-en-Bresse'],\n",
       " 'Bourges': ['Bourges'],\n",
       " 'Brest': ['Le Faou'],\n",
       " 'Briançon': ['Briançon'],\n",
       " 'Brive-la-Gaillarde': ['Brive-la-Gaillarde', 'Collonges-la-Rouge'],\n",
       " 'Béziers': ['Béziers'],\n",
       " 'Caen': ['Caen'],\n",
       " 'Cahors': ['Cahors'],\n",
       " 'Cambrai': ['Cambrai'],\n",
       " 'Carcassonne': ['Carcassonne'],\n",
       " 'Carpentras': ['Carpentras'],\n",
       " 'Chalon-sur-Saône': ['Chalon-sur-Saône'],\n",
       " 'Chambéry-Challes-les-Eaux': ['Chambéry'],\n",
       " 'Charleville-Mézières': ['Charleville-Mézières'],\n",
       " 'Chartres': ['Chartres'],\n",
       " 'Chaumont': ['Chaumont'],\n",
       " 'Chinon': ['Chinon', 'Richelieu'],\n",
       " 'Châlons-en-Champagne': ['Châlons-en-Champagne'],\n",
       " 'Châteaudun': ['Châteaudun'],\n",
       " 'Châtillon-sur-Seine': ['Châtillon-sur-Seine'],\n",
       " 'Clermont-Ferrand': ['Clermont-Ferrand', 'Billom'],\n",
       " 'Cluny': ['Cluny'],\n",
       " 'Cognac': ['Cognac'],\n",
       " 'Colmar': ['Riquewihr', 'Colmar', 'Kaysersberg'],\n",
       " 'Compiègne': ['Compiègne'],\n",
       " 'Cordes-Vindrac': ['Cordes-sur-Ciel'],\n",
       " 'Dieppe': ['Dieppe'],\n",
       " 'Dijon-Ville': ['Dijon'],\n",
       " 'Dinan': ['Dinan'],\n",
       " 'Dole-Ville': ['Dole'],\n",
       " 'Douai': ['Douai'],\n",
       " 'Dunkerque': ['Dunkerque'],\n",
       " 'Falaise': ['Falaise'],\n",
       " 'Figeac': ['Figeac'],\n",
       " 'Fontainebleau-Avon': ['Fontainebleau'],\n",
       " 'Fontenay-le-Comte': ['Fontenay-le-Comte'],\n",
       " 'Fougères': ['Fougères'],\n",
       " 'Fréjus': ['Fréjus'],\n",
       " 'Grasse': ['Grasse'],\n",
       " 'Gray': ['Gray'],\n",
       " 'Grenoble': ['Grenoble'],\n",
       " 'Haguenau': ['Haguenau'],\n",
       " 'Honfleur': ['Honfleur'],\n",
       " 'Hyères': ['Hyères'],\n",
       " 'La Rochelle-Ville': ['La Rochelle', \"Île-d'Aix\"],\n",
       " 'Lalinde': ['Monpazier'],\n",
       " 'Langres': ['Langres'],\n",
       " 'Lannion': ['Lannion'],\n",
       " 'Laon': ['Laon'],\n",
       " 'Laval': ['Laval'],\n",
       " 'Le Havre': ['Le Havre'],\n",
       " 'Le Mans': ['Le Mans'],\n",
       " 'Le Puy-en-Velay': ['Le Puy-en-Velay'],\n",
       " 'Le Touquet-Aéroport': ['Le Touquet-Paris-Plage'],\n",
       " 'Les Eyzies': ['Les Eyzies-de-Tayac-Sireuil'],\n",
       " 'Lille-Europe': ['Lille'],\n",
       " 'Limoges-Bénédictins': ['Limoges'],\n",
       " 'Lisieux': ['Lisieux'],\n",
       " 'Loches': ['Loches'],\n",
       " 'Lons-le-Saunier': ['Lons-le-Saunier'],\n",
       " 'Lyon-Part-Dieu': ['Lyon'],\n",
       " 'Lyon-St-Exupéry-TGV': ['Crémieu'],\n",
       " 'Marseille-St-Charles': ['Marseille'],\n",
       " 'Mende': ['Mende'],\n",
       " 'Metz-Ville': ['Metz'],\n",
       " 'Meximieux-Pérouges': ['Pérouges'],\n",
       " 'Montauban-Ville-Bourbon': ['Montauban'],\n",
       " 'Montbéliard': ['Montbéliard'],\n",
       " 'Montluçon-Ville': ['Montluçon'],\n",
       " 'Montpellier-St-Roch': ['Montpellier'],\n",
       " 'Morlaix': ['Morlaix'],\n",
       " 'Moulins-sur-Allier': ['Moulins'],\n",
       " 'Mulhouse-Ville': ['Mulhouse'],\n",
       " 'Mâcon-Ville': ['Mâcon'],\n",
       " 'Nancy-Ville': ['Nancy'],\n",
       " 'Nantes': ['Nantes'],\n",
       " 'Narbonne': ['Narbonne'],\n",
       " 'Neufchâteau': ['Neufchâteau'],\n",
       " 'Nevers': ['Nevers'],\n",
       " 'Nice-Ville': ['Nice'],\n",
       " 'Niort': ['Niort'],\n",
       " 'Nîmes': ['Nîmes'],\n",
       " 'Obernai': ['Obernai'],\n",
       " 'Orléans': ['Orléans'],\n",
       " 'Paimpol': ['Tréguier'],\n",
       " 'Pamiers': ['Mirepoix'],\n",
       " 'Paris-Nord': ['Paris'],\n",
       " 'Pernes': ['Pernes-les-Fontaines'],\n",
       " 'Perpignan': ['Perpignan', 'Villefranche-de-Conflent'],\n",
       " 'Phalsbourg': ['Phalsbourg'],\n",
       " 'Poitiers': ['Poitiers'],\n",
       " 'Pont-à-Mousson': ['Pont-à-Mousson'],\n",
       " 'Pontorson-Mont-St-Michel': ['Le Mont-St-Michel'],\n",
       " 'Provins': ['Provins'],\n",
       " 'Périgueux': ['Périgueux'],\n",
       " 'Pézenas': ['Pézenas'],\n",
       " 'Quimper': ['Quimper', 'Locronan'],\n",
       " 'Reims': ['Reims'],\n",
       " 'Rennes': ['Rennes'],\n",
       " 'Riom-Châtel-Guyon': ['Riom'],\n",
       " 'Rocamadour-Padirac': ['Rocamadour'],\n",
       " 'Rodez': ['Rodez'],\n",
       " 'Roubaix': ['Roubaix'],\n",
       " 'Rouen-Rive-Droite': ['Rouen'],\n",
       " 'Rouffach': ['Rouffach'],\n",
       " 'Saintes': ['Saintes'],\n",
       " 'Salins-les-Bains': ['Salins-les-Bains'],\n",
       " 'Sarlat': ['Sarlat-la-Canéda'],\n",
       " 'Saumur-Rive-Droite': ['Saumur'],\n",
       " 'Senlis': ['Senlis'],\n",
       " 'Sens': ['Sens'],\n",
       " 'Soissons': ['Soissons'],\n",
       " 'St-Brieuc': ['St-Brieuc'],\n",
       " 'St-Denis': ['St-Denis'],\n",
       " 'St-Flour-Chaudes-Aigues': ['St-Flour'],\n",
       " 'St-Germain-Grande-Ceinture': ['St-Germain-en-Laye'],\n",
       " 'St-Malo': ['St-Malo'],\n",
       " 'St-Omer': ['St-Omer'],\n",
       " 'St-Étienne-Châteaucreux': ['St-Étienne'],\n",
       " 'Strasbourg-Ville': ['Strasbourg'],\n",
       " 'Sélestat': ['Sélestat'],\n",
       " 'Tarascon': ['Tarascon', 'Les Baux-de-Provence'],\n",
       " 'Thiers': ['Thiers'],\n",
       " 'Toul': ['Toul'],\n",
       " 'Toulouse-Matabiau': ['Toulouse'],\n",
       " 'Tournus': ['Tournus'],\n",
       " 'Tours': ['Tours'],\n",
       " 'Troyes': ['Troyes'],\n",
       " 'Uzès': ['Uzès'],\n",
       " \"Valence-d'Agen\": ['Auvillar'],\n",
       " 'Valenciennes': ['Valenciennes'],\n",
       " 'Vannes': ['Vannes'],\n",
       " 'Vendôme': ['Vendôme'],\n",
       " 'Verdun': ['Verdun'],\n",
       " 'Versailles-Chantiers': ['Versailles'],\n",
       " 'Vichy': ['Vichy'],\n",
       " 'Vienne': ['Vienne'],\n",
       " 'Villefranche-de-Rouergue': ['Villefranche-de-Rouergue'],\n",
       " 'Villeneuve-lès-Avignon': ['Villeneuve-lès-Avignon'],\n",
       " 'Vitré': ['Vitré'],\n",
       " 'Wissembourg': ['Wissembourg'],\n",
       " 'Épinal': ['Épinal']}"
      ]
     },
     "execution_count": 14,
     "metadata": {},
     "output_type": "execute_result"
    }
   ],
   "source": [
    "aliases_historic_cities # Important stations that link to important cities"
   ]
  },
  {
   "cell_type": "code",
   "execution_count": 15,
   "metadata": {
    "collapsed": true
   },
   "outputs": [],
   "source": [
    "url = 'https://fr.wikipedia.org/wiki/Villes_et_Pays_d%27art_et_d%27histoire'\n",
    "df4 = get_table_from_article(url, table_index=0, col_indices=[0, 2], col_names=['Name', 'Number of communes'],\n",
    "                            col_links_indices=[0], col_links_names=['Link'])\n",
    "df4.loc[df4['Number of communes'] == '', 'Number of communes'] = '99'\n",
    "df4['Number of communes'] = df4['Number of communes'].apply(lambda x: int(re.sub(',\\[,Note.*', '', x)))\n",
    "df4 = df4[(df4['Number of communes'] == 1) & (df4.Link)]"
   ]
  },
  {
   "cell_type": "code",
   "execution_count": 16,
   "metadata": {
    "collapsed": true
   },
   "outputs": [],
   "source": [
    "communes2 = df4.Name\n",
    "communes2 = communes2.str.replace('Saint-', 'St-')"
   ]
  },
  {
   "cell_type": "code",
   "execution_count": 17,
   "metadata": {
    "collapsed": false
   },
   "outputs": [
    {
     "name": "stdout",
     "output_type": "stream",
     "text": [
      "Ignoring Sartène (outre-mer)\n",
      "Ignoring St-Paul (outre-mer)\n",
      "Ignoring St-Pierre (outre-mer)\n",
      "Ignoring St-Laurent-du-Maroni (outre-mer)\n",
      "Ignoring Basse-Terre (outre-mer)\n",
      "Ignoring Pointe-à-Pitre (outre-mer)\n",
      "Ignoring Parc naturel régional du Vexin français (outre-mer)\n"
     ]
    }
   ],
   "source": [
    "manual_aliases.update({\n",
    "    'Aix-les-Bains': 'Aix-les-Bains-Le Revard',\n",
    "    'Lodève': 'Montpellier-St-Roch',\n",
    "    'Boulogne-sur-Mer': 'Boulogne-Tintelleries',\n",
    "    'Rouen Métropole': 'Rouen-Rive-Droite',\n",
    "    'Noisiel': 'Paris-Nord',\n",
    "    'Boulogne-Billancourt': 'Paris-Nord',\n",
    "    'Chantilly': 'Chantilly-Gouvieux',\n",
    "    'Vincennes': 'Paris-Nord',\n",
    "    'La Charité-sur-Loire': 'La Charité',\n",
    "    \n",
    "})\n",
    "ignore.extend(['Pointe-à-Pitre', 'Parc naturel régional du Vexin français', 'Basse-Terre', 'Sartène',\n",
    "               'St-Laurent-du-Maroni', 'St-Pierre'])\n",
    "aliases_pays_dart_histoire = {}\n",
    "for commune in set(communes2):\n",
    "    if commune in ignore:\n",
    "        print('Ignoring {} (outre-mer)'.format(commune))\n",
    "        continue\n",
    "    elif commune in manual_aliases:\n",
    "        nearest = manual_aliases[commune]\n",
    "    elif commune in df3.Name.values:\n",
    "        nearest = commune\n",
    "    else:\n",
    "        print('Ignoring {} (?)'.format(commune))\n",
    "        continue\n",
    "    aliases_pays_dart_histoire[nearest] = ([*aliases_pays_dart_histoire[nearest], commune]\n",
    "                                           if nearest in aliases_pays_dart_histoire else [commune])"
   ]
  },
  {
   "cell_type": "code",
   "execution_count": 18,
   "metadata": {
    "collapsed": false
   },
   "outputs": [
    {
     "data": {
      "text/plain": [
       "{'Aix-les-Bains-Le Revard': ['Aix-les-Bains'],\n",
       " 'Ajaccio': ['Ajaccio'],\n",
       " 'Albertville': ['Albertville'],\n",
       " 'Angers-St-Laud': ['Angers'],\n",
       " 'Arles': ['Arles'],\n",
       " 'Autun': ['Autun'],\n",
       " 'Auxerre-St-Gervais': ['Auxerre'],\n",
       " 'Bar-le-Duc': ['Bar-le-Duc'],\n",
       " 'Bastia': ['Bastia'],\n",
       " 'Bayonne': ['Bayonne'],\n",
       " 'Beaucaire': ['Beaucaire'],\n",
       " 'Beauvais': ['Beauvais'],\n",
       " 'Belfort': ['Belfort'],\n",
       " 'Bergerac': ['Bergerac'],\n",
       " 'Bernay': ['Bernay'],\n",
       " 'Besançon-Viotte': ['Besançon'],\n",
       " 'Blois': ['Blois'],\n",
       " 'Bordeaux-St-Jean': ['Bordeaux'],\n",
       " 'Boulogne-Tintelleries': ['Boulogne-sur-Mer'],\n",
       " 'Bourges': ['Bourges'],\n",
       " 'Brest': ['Brest'],\n",
       " 'Briançon': ['Briançon'],\n",
       " 'Caen': ['Caen'],\n",
       " 'Cahors': ['Cahors'],\n",
       " 'Cambrai': ['Cambrai'],\n",
       " 'Carcassonne': ['Carcassonne'],\n",
       " 'Chalon-sur-Saône': ['Chalon-sur-Saône'],\n",
       " 'Chambéry-Challes-les-Eaux': ['Chambéry'],\n",
       " 'Chantilly-Gouvieux': ['Chantilly'],\n",
       " 'Charleville-Mézières': ['Charleville-Mézières'],\n",
       " 'Chinon': ['Chinon'],\n",
       " 'Châlons-en-Champagne': ['Châlons-en-Champagne'],\n",
       " 'Cognac': ['Cognac'],\n",
       " 'Concarneau': ['Concarneau'],\n",
       " 'Dieppe': ['Dieppe'],\n",
       " 'Dijon-Ville': ['Dijon'],\n",
       " 'Dinan': ['Dinan'],\n",
       " 'Dinard': ['Dinard'],\n",
       " 'Dole-Ville': ['Dole'],\n",
       " 'Fontenay-le-Comte': ['Fontenay-le-Comte'],\n",
       " 'Fougères': ['Fougères'],\n",
       " 'Fréjus': ['Fréjus'],\n",
       " 'Fécamp': ['Fécamp'],\n",
       " 'Gaillac': ['Gaillac'],\n",
       " 'Grasse': ['Grasse'],\n",
       " 'Grenoble': ['Grenoble'],\n",
       " 'Guérande': ['Guérande'],\n",
       " 'Hyères': ['Hyères'],\n",
       " 'Joigny': ['Joigny'],\n",
       " 'La Charité': ['La Charité-sur-Loire'],\n",
       " 'La Réole': ['La Réole'],\n",
       " 'Langres': ['Langres'],\n",
       " 'Laon': ['Laon'],\n",
       " 'Laval': ['Laval'],\n",
       " 'Le Havre': ['Le Havre'],\n",
       " 'Le Mans': ['Le Mans'],\n",
       " 'Lille-Europe': ['Lille'],\n",
       " 'Limoges-Bénédictins': ['Limoges'],\n",
       " 'Loches': ['Loches'],\n",
       " 'Lorient': ['Lorient'],\n",
       " 'Marseille-St-Charles': ['Marseille'],\n",
       " 'Martigues': ['Martigues'],\n",
       " 'Meaux': ['Meaux'],\n",
       " 'Menton': ['Menton'],\n",
       " 'Metz-Ville': ['Metz'],\n",
       " 'Millau': ['Millau'],\n",
       " 'Moissac': ['Moissac'],\n",
       " 'Montauban-Ville-Bourbon': ['Montauban'],\n",
       " 'Montpellier-St-Roch': ['Lodève'],\n",
       " 'Moulins-sur-Allier': ['Moulins'],\n",
       " 'Mulhouse-Ville': ['Mulhouse'],\n",
       " 'Narbonne': ['Narbonne'],\n",
       " 'Nevers': ['Nevers'],\n",
       " 'Noyon': ['Noyon'],\n",
       " 'Nîmes': ['Nîmes'],\n",
       " 'Orléans': ['Orléans'],\n",
       " 'Paris-Nord': ['Vincennes', 'Boulogne-Billancourt', 'Noisiel'],\n",
       " 'Pau': ['Pau'],\n",
       " 'Perpignan': ['Perpignan'],\n",
       " 'Pontoise': ['Pontoise'],\n",
       " 'Périgueux': ['Périgueux'],\n",
       " 'Quimper': ['Quimper'],\n",
       " 'Rambouillet': ['Rambouillet'],\n",
       " 'Reims': ['Reims'],\n",
       " 'Rennes': ['Rennes'],\n",
       " 'Rochefort': ['Rochefort'],\n",
       " 'Roubaix': ['Roubaix'],\n",
       " 'Rouen-Rive-Droite': ['Rouen Métropole'],\n",
       " 'Royan': ['Royan'],\n",
       " 'Saintes': ['Saintes'],\n",
       " 'Sarlat': ['Sarlat-la-Canéda'],\n",
       " 'Saumur-Rive-Droite': ['Saumur'],\n",
       " 'Sedan': ['Sedan'],\n",
       " 'Soissons': ['Soissons'],\n",
       " 'St-Denis': ['St-Denis'],\n",
       " 'St-Quentin': ['St-Quentin'],\n",
       " 'St-Quentin-en-Yvelines': ['St-Quentin-en-Yvelines'],\n",
       " 'St-Étienne-Châteaucreux': ['St-Étienne'],\n",
       " 'Strasbourg-Ville': ['Strasbourg'],\n",
       " 'Thouars': ['Thouars'],\n",
       " 'Tours': ['Tours'],\n",
       " 'Troyes': ['Troyes'],\n",
       " 'Uzès': ['Uzès'],\n",
       " 'Valence': ['Valence'],\n",
       " 'Vannes': ['Vannes'],\n",
       " 'Vendôme': ['Vendôme'],\n",
       " 'Vienne': ['Vienne'],\n",
       " 'Vitré': ['Vitré']}"
      ]
     },
     "execution_count": 18,
     "metadata": {},
     "output_type": "execute_result"
    }
   ],
   "source": [
    "aliases_pays_dart_histoire"
   ]
  },
  {
   "cell_type": "code",
   "execution_count": 19,
   "metadata": {
    "collapsed": true
   },
   "outputs": [],
   "source": [
    "with open(DATA_DIR + '_historic_cities.json', 'w') as outfile:\n",
    "    json.dump(aliases_historic_cities, outfile, sort_keys=True)\n",
    "with open(DATA_DIR + '_art_history_cities.json', 'w') as outfile:\n",
    "    json.dump(aliases_pays_dart_histoire, outfile, sort_keys=True)"
   ]
  },
  {
   "cell_type": "code",
   "execution_count": null,
   "metadata": {
    "collapsed": true
   },
   "outputs": [],
   "source": []
  }
 ],
 "metadata": {
  "kernelspec": {
   "display_name": "Python 3",
   "language": "python",
   "name": "python3"
  },
  "language_info": {
   "codemirror_mode": {
    "name": "ipython",
    "version": 3
   },
   "file_extension": ".py",
   "mimetype": "text/x-python",
   "name": "python",
   "nbconvert_exporter": "python",
   "pygments_lexer": "ipython3",
   "version": "3.6.0"
  }
 },
 "nbformat": 4,
 "nbformat_minor": 2
}
